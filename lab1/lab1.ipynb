{
  "cells": [
    {
      "cell_type": "markdown",
      "metadata": {},
      "source": [
        "#### **1. Write a program that reads the corpus \"zipf.txt\" and plot a histogram number of letters vs number of words with given number of letters.**  \n",
        "\n",
        "Hint: Use the Counter data structure from collections module"
      ]
    },
    {
      "cell_type": "code",
      "execution_count": 5,
      "metadata": {
        "id": "-n_N5y73VUJE"
      },
      "outputs": [
        {
          "data": {
            "image/png": "[encoded data removed]",
            "text/plain": [
              "<Figure size 432x288 with 1 Axes>"
            ]
          },
          "metadata": {
            "needs_background": "light"
          },
          "output_type": "display_data"
        }
      ],
      "source": [
        "import matplotlib.pyplot as plt\n",
        "from collections import Counter\n",
        "\n",
        "with open('zipf.txt', 'r', encoding='utf-8') as f:\n",
        "    words = f.read().split()\n",
        "    letters = [len(word) for word in words]\n",
        "    counter = Counter(letters)\n",
        "    plt.bar(counter.keys(), counter.values())\n",
        "    plt.xlabel('Number of letters')\n",
        "    plt.ylabel('Number of words')\n",
        "    plt.show()"
      ]
    },
    {
      "cell_type": "markdown",
      "metadata": {},
      "source": [
        "\n",
        "#### **2. Write a program for computing entropy for a given sequence (string) from the alphabet., e.g.,**  \n",
        "\n",
        "```Alphabet = ['0', '1'], Message = 01001 -> S(Message, Alphabet) = 0.97095.```"
      ]
    },
    {
      "cell_type": "code",
      "execution_count": 6,
      "metadata": {},
      "outputs": [
        {
          "name": "stdout",
          "output_type": "stream",
          "text": [
            "0.9709505944546686\n"
          ]
        }
      ],
      "source": [
        "import math\n",
        "\n",
        "def entropy(message, alphabet):\n",
        "    counter = Counter(message)\n",
        "    return -sum(counter[letter] / len(message) * math.log(counter[letter] / len(message), 2) for letter in alphabet)\n",
        "\n",
        "print(entropy('01001', ['0', '1']))"
      ]
    },
    {
      "cell_type": "markdown",
      "metadata": {},
      "source": [
        "#### **3. Plot histogram of Zipf's law - rank of the word vs the number of occurances of the word.**  \n",
        "Hint: Use collections.Counter data structure"
      ]
    },
    {
      "cell_type": "code",
      "execution_count": 7,
      "metadata": {},
      "outputs": [
        {
          "data": {
            "image/png": "[encoded data removed]",
            "text/plain": [
              "<Figure size 432x288 with 1 Axes>"
            ]
          },
          "metadata": {
            "needs_background": "light"
          },
          "output_type": "display_data"
        }
      ],
      "source": [
        "import matplotlib.pyplot as plt\n",
        "from collections import Counter\n",
        "\n",
        "with open('zipf.txt', 'r', encoding='utf-8') as f:\n",
        "    words = f.read().split()\n",
        "    counter = Counter(words)\n",
        "    counterSorted = counter.most_common(100)\n",
        "    plt.bar(range(1, 101), [counterSorted[i][1] for i in range(100)])\n",
        "    plt.xlabel('Rank of word')\n",
        "    plt.ylabel('Frequency of word')\n",
        "    plt.show()"
      ]
    }
  ],
  "metadata": {
    "colab": {
      "provenance": []
    },
    "kernelspec": {
      "display_name": "Python 3.9.4 64-bit",
      "language": "python",
      "name": "python3"
    },
    "language_info": {
      "codemirror_mode": {
        "name": "ipython",
        "version": 3
      },
      "file_extension": ".py",
      "mimetype": "text/x-python",
      "name": "python",
      "nbconvert_exporter": "python",
      "pygments_lexer": "ipython3",
      "version": "3.9.4"
    },
    "vscode": {
      "interpreter": {
        "hash": "a9e48067059f8ad41182023408d526493981d260bb4682e3cf464c2105227d16"
      }
    }
  },
  "nbformat": 4,
  "nbformat_minor": 0
}
