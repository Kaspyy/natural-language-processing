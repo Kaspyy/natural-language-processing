{
 "cells": [
  {
   "cell_type": "markdown",
   "id": "1bf85a13",
   "metadata": {},
   "source": [
    "# Chatbot - first approach"
   ]
  },
  {
   "cell_type": "markdown",
   "id": "daa711cd",
   "metadata": {},
   "source": [
    "## Introduction"
   ]
  },
  {
   "cell_type": "markdown",
   "id": "16d03546",
   "metadata": {},
   "source": [
    "First we try to dectect greetings."
   ]
  },
  {
   "cell_type": "code",
   "execution_count": 3,
   "id": "738c28a3",
   "metadata": {},
   "outputs": [],
   "source": [
    "import re"
   ]
  },
  {
   "cell_type": "code",
   "execution_count": 4,
   "id": "1c75c2c2",
   "metadata": {},
   "outputs": [],
   "source": [
    "r = \"(hi|hello|hey)[ ]*([a-z]*)\""
   ]
  },
  {
   "cell_type": "code",
   "execution_count": 5,
   "id": "0aa667ed",
   "metadata": {},
   "outputs": [
    {
     "name": "stdout",
     "output_type": "stream",
     "text": [
      "<re.Match object; span=(0, 10), match='Hello Rosa'>\n"
     ]
    }
   ],
   "source": [
    "print(re.match(r, 'Hello Rosa', flags=re.IGNORECASE))"
   ]
  },
  {
   "cell_type": "code",
   "execution_count": 6,
   "id": "bbcfe924",
   "metadata": {},
   "outputs": [
    {
     "name": "stdout",
     "output_type": "stream",
     "text": [
      "<re.Match object; span=(0, 5), match='hi ho'>\n"
     ]
    }
   ],
   "source": [
    "print(re.match(r, \"hi ho, hi ho, it's off to work ...\", flags=re.IGNORECASE))"
   ]
  },
  {
   "cell_type": "code",
   "execution_count": 7,
   "id": "6d91e530",
   "metadata": {},
   "outputs": [
    {
     "name": "stdout",
     "output_type": "stream",
     "text": [
      "<re.Match object; span=(0, 3), match='hey'>\n"
     ]
    }
   ],
   "source": [
    "print(re.match(r, \"hey, what's up\", flags=re.IGNORECASE))"
   ]
  },
  {
   "cell_type": "markdown",
   "id": "cdb78168",
   "metadata": {},
   "source": [
    "## More advanced greetings"
   ]
  },
  {
   "cell_type": "code",
   "execution_count": 8,
   "id": "3c33049e",
   "metadata": {},
   "outputs": [],
   "source": [
    " r = r\"[^a-z]*([y]o|[h']?ello|ok|hey|(good[ ])?(morn[gin']{0,3}|\"\\\n",
    " r\"afternoon|even[gin']{0,3}))[\\s,;:]{1,3}([a-z]{1,20})\"\n",
    " re_greeting = re.compile(r, flags=re.IGNORECASE)"
   ]
  },
  {
   "cell_type": "code",
   "execution_count": 9,
   "id": "e01cdea9",
   "metadata": {},
   "outputs": [
    {
     "name": "stdout",
     "output_type": "stream",
     "text": [
      "<re.Match object; span=(0, 10), match='Hello Rosa'>\n"
     ]
    }
   ],
   "source": [
    "print(re_greeting.match('Hello Rosa'))"
   ]
  },
  {
   "cell_type": "code",
   "execution_count": 10,
   "id": "0e1c15e2",
   "metadata": {},
   "outputs": [
    {
     "name": "stdout",
     "output_type": "stream",
     "text": [
      "('Hello', None, None, 'Rosa')\n"
     ]
    }
   ],
   "source": [
    "print(re_greeting.match('Hello Rosa').groups())"
   ]
  },
  {
   "cell_type": "code",
   "execution_count": 11,
   "id": "dc79fe3e",
   "metadata": {},
   "outputs": [
    {
     "name": "stdout",
     "output_type": "stream",
     "text": [
      "<re.Match object; span=(0, 17), match='Good morning Rosa'>\n"
     ]
    }
   ],
   "source": [
    "print(re_greeting.match(\"Good morning Rosa\"))"
   ]
  },
  {
   "cell_type": "code",
   "execution_count": 12,
   "id": "01f9fe8f",
   "metadata": {},
   "outputs": [
    {
     "name": "stdout",
     "output_type": "stream",
     "text": [
      "None\n"
     ]
    }
   ],
   "source": [
    "print(re_greeting.match(\"Good Manning Rosa\"))"
   ]
  },
  {
   "cell_type": "code",
   "execution_count": 13,
   "id": "bc7d1bab",
   "metadata": {},
   "outputs": [
    {
     "name": "stdout",
     "output_type": "stream",
     "text": [
      "('Good evening', 'Good ', 'evening', 'Rosa')\n"
     ]
    }
   ],
   "source": [
    "print(re_greeting.match('Good evening Rosa Parks').groups())"
   ]
  },
  {
   "cell_type": "code",
   "execution_count": 14,
   "id": "0c92180c",
   "metadata": {},
   "outputs": [
    {
     "name": "stdout",
     "output_type": "stream",
     "text": [
      "<re.Match object; span=(0, 16), match=\"Good Morn'n Rosa\">\n"
     ]
    }
   ],
   "source": [
    "print(re_greeting.match(\"Good Morn'n Rosa\"))"
   ]
  },
  {
   "cell_type": "code",
   "execution_count": 15,
   "id": "e44bc443",
   "metadata": {},
   "outputs": [
    {
     "name": "stdout",
     "output_type": "stream",
     "text": [
      "<re.Match object; span=(0, 7), match='yo Rosa'>\n"
     ]
    }
   ],
   "source": [
    "print(re_greeting.match(\"yo Rosa\"))"
   ]
  },
  {
   "cell_type": "markdown",
   "id": "010c0c65",
   "metadata": {},
   "source": [
    "## Simple bot"
   ]
  },
  {
   "cell_type": "code",
   "execution_count": 16,
   "id": "fe724e16",
   "metadata": {},
   "outputs": [],
   "source": [
    "r = r\"[^a-z]*([y]o|[h']?ello|ok|hey|(good[ ])?(morn[gin']{0,3}|\"\\\n",
    " r\"afternoon|even[gin']{0,3}))[\\s,;:]{1,3}([a-z]{1,20})\"\n",
    "\n",
    "re_greeting = re.compile(r, flags=re.IGNORECASE)\n",
    "\n",
    "my_names = set(['rosa', 'rose', 'chatty', 'chatbot', 'bot', 'chatterbot'])\n",
    "curt_names = set(['hal', 'you', 'u'])\n",
    "greeter_name = ''\n",
    "#We don’t yet know \n",
    "match = re_greeting.match(input())\n",
    "if match:\n",
    "    at_name = match.groups()[-1]\n",
    "    if at_name in curt_names:\n",
    "        print(\"Good one.\")\n",
    "    elif at_name.lower() in my_names:\n",
    "        print(\"Hi {}, How are you?\".format(greeter_name))\n",
    "\n"
   ]
  },
  {
   "cell_type": "markdown",
   "id": "0e0614c0",
   "metadata": {},
   "source": [
    "# Bag of Words"
   ]
  },
  {
   "cell_type": "code",
   "execution_count": 17,
   "id": "e5bc9f96",
   "metadata": {},
   "outputs": [
    {
     "name": "stdout",
     "output_type": "stream",
     "text": [
      "Counter({'Guten': 1, 'Morgen': 1, 'Rosa': 1})\n"
     ]
    }
   ],
   "source": [
    "from collections import Counter\n",
    "print(Counter(\"Guten Morgen Rosa\".split()))"
   ]
  },
  {
   "cell_type": "code",
   "execution_count": 18,
   "id": "904f9432",
   "metadata": {},
   "outputs": [
    {
     "name": "stdout",
     "output_type": "stream",
     "text": [
      "Counter({'Good': 1, 'morning,': 1, 'Rosa!': 1})\n"
     ]
    }
   ],
   "source": [
    "print(Counter(\"Good morning, Rosa!\".split()))"
   ]
  },
  {
   "cell_type": "markdown",
   "id": "eff75e25",
   "metadata": {},
   "source": [
    "# Permutations"
   ]
  },
  {
   "cell_type": "code",
   "execution_count": 19,
   "id": "99d8f608",
   "metadata": {},
   "outputs": [
    {
     "name": "stdout",
     "output_type": "stream",
     "text": [
      "['Good morning Rosa!', 'Good Rosa! morning', 'morning Good Rosa!', 'morning Rosa! Good', 'Rosa! Good morning', 'Rosa! morning Good']\n"
     ]
    }
   ],
   "source": [
    "from itertools import permutations\n",
    "l=[\" \".join(combo) for combo in permutations(\"Good morning Rosa!\".split(), 3)]\n",
    "print(l)"
   ]
  },
  {
   "cell_type": "code",
   "execution_count": 20,
   "id": "8fa47d67",
   "metadata": {},
   "outputs": [
    {
     "name": "stdout",
     "output_type": "stream",
     "text": [
      "No words =  12\n",
      "No permutations =  479001600\n"
     ]
    }
   ],
   "source": [
    "s = \"\"\"Find textbooks with titles containing 'NLP', or 'natural' and 'language', or 'computational' and 'linguistics'.\"\"\"\n",
    "print(\"No words = \", len(set(s.split())))\n",
    "import numpy as np\n",
    "print(\"No permutations = \", np.arange(1, 12 + 1).prod()) # factorial(12) = arange(1, 13).prod()"
   ]
  },
  {
   "cell_type": "markdown",
   "id": "5fd61271",
   "metadata": {},
   "source": [
    "# ChatterBot"
   ]
  },
  {
   "cell_type": "markdown",
   "id": "72f91d5f",
   "metadata": {},
   "source": [
    "<img src=\"banner.png\">"
   ]
  },
  {
   "cell_type": "markdown",
   "id": "c4a6bd6a",
   "metadata": {},
   "source": [
    "#### Preparation"
   ]
  },
  {
   "cell_type": "markdown",
   "id": "7ab5e1cc",
   "metadata": {},
   "source": [
    "We now start to learn how to use [ChatterBot](https://chatterbot.readthedocs.io/en/stable/index.html) and adapt it to our examples."
   ]
  },
  {
   "cell_type": "markdown",
   "id": "6b7e4470",
   "metadata": {},
   "source": [
    "Instalation:\n",
    "- pip install chatterbot\n",
    "- pip install git+git://github.com/gunthercox/ChatterBot.git@master\n",
    "- ...\n",
    "\n",
    "One has to also install corpus:\n",
    "- pip install chatterbot-corpus\n",
    "\n",
    "Validating installation:\n",
    "\n",
    "python -m chatterbot --version"
   ]
  },
  {
   "cell_type": "markdown",
   "id": "c30b294d",
   "metadata": {},
   "source": [
    "<img src=\"chatterbot-process-flow.svg\">"
   ]
  },
  {
   "cell_type": "code",
   "execution_count": 21,
   "id": "72fc430c",
   "metadata": {},
   "outputs": [
    {
     "name": "stderr",
     "output_type": "stream",
     "text": [
      "[nltk_data] Downloading package averaged_perceptron_tagger to\n",
      "[nltk_data]     C:\\Users\\kacper\\AppData\\Roaming\\nltk_data...\n",
      "[nltk_data]   Package averaged_perceptron_tagger is already up-to-\n",
      "[nltk_data]       date!\n",
      "[nltk_data] Downloading package punkt to\n",
      "[nltk_data]     C:\\Users\\kacper\\AppData\\Roaming\\nltk_data...\n",
      "[nltk_data]   Package punkt is already up-to-date!\n",
      "[nltk_data] Downloading package stopwords to\n",
      "[nltk_data]     C:\\Users\\kacper\\AppData\\Roaming\\nltk_data...\n",
      "[nltk_data]   Package stopwords is already up-to-date!\n"
     ]
    }
   ],
   "source": [
    "# create a new chat bot\n",
    "from chatterbot import ChatBot\n",
    "chatbot = ChatBot(\"Ron Obvious\")"
   ]
  },
  {
   "cell_type": "markdown",
   "id": "844275a2",
   "metadata": {},
   "source": [
    "#### Train (optional)"
   ]
  },
  {
   "cell_type": "markdown",
   "id": "ec7051b4",
   "metadata": {},
   "source": [
    "After creating a new ChatterBot instance it is also possible to train the bot. Training is a good way to ensure that the bot starts off with knowledge about specific responses. The current training method takes a list of statements that represent a conversation."
   ]
  },
  {
   "cell_type": "code",
   "execution_count": 22,
   "id": "aecca7cb",
   "metadata": {},
   "outputs": [
    {
     "name": "stdout",
     "output_type": "stream",
     "text": [
      "List Trainer: [####################] 100%\n"
     ]
    }
   ],
   "source": [
    "from chatterbot.trainers import ListTrainer\n",
    "\n",
    "conversation = [\n",
    "    \"Hello\",\n",
    "    \"Hi there!\",\n",
    "    \"How are you doing?\",\n",
    "    \"I'm doing great.\",\n",
    "    \"That is good to hear\",\n",
    "    \"Thank you.\",\n",
    "    \"You're welcome.\"\n",
    "]\n",
    "\n",
    "# chatbot.set_trainer(ListTrainer)\n",
    "# chatbot.train(conversation)\n",
    "\n",
    "# OLD version\n",
    "trainer = ListTrainer(chatbot)\n",
    "trainer.train(conversation)"
   ]
  },
  {
   "cell_type": "markdown",
   "id": "544139ae",
   "metadata": {},
   "source": [
    "#### Get a response"
   ]
  },
  {
   "cell_type": "code",
   "execution_count": 23,
   "id": "b15f700e",
   "metadata": {},
   "outputs": [
    {
     "name": "stdout",
     "output_type": "stream",
     "text": [
      "How are you doing?\n"
     ]
    }
   ],
   "source": [
    "response = chatbot.get_response(\"Good morning!\")\n",
    "print(response)"
   ]
  },
  {
   "cell_type": "markdown",
   "id": "7049ac87",
   "metadata": {},
   "source": [
    "## First chatbot"
   ]
  },
  {
   "cell_type": "markdown",
   "id": "652dc681",
   "metadata": {},
   "source": [
    "Create a chatbot:"
   ]
  },
  {
   "cell_type": "code",
   "execution_count": 24,
   "id": "00e43b5e",
   "metadata": {},
   "outputs": [
    {
     "name": "stderr",
     "output_type": "stream",
     "text": [
      "[nltk_data] Downloading package averaged_perceptron_tagger to\n",
      "[nltk_data]     C:\\Users\\kacper\\AppData\\Roaming\\nltk_data...\n",
      "[nltk_data]   Package averaged_perceptron_tagger is already up-to-\n",
      "[nltk_data]       date!\n",
      "[nltk_data] Downloading package punkt to\n",
      "[nltk_data]     C:\\Users\\kacper\\AppData\\Roaming\\nltk_data...\n",
      "[nltk_data]   Package punkt is already up-to-date!\n",
      "[nltk_data] Downloading package stopwords to\n",
      "[nltk_data]     C:\\Users\\kacper\\AppData\\Roaming\\nltk_data...\n",
      "[nltk_data]   Package stopwords is already up-to-date!\n"
     ]
    }
   ],
   "source": [
    "from chatterbot import ChatBot\n",
    "bot = ChatBot('Norman')"
   ]
  },
  {
   "cell_type": "markdown",
   "id": "2acb086f",
   "metadata": {},
   "source": [
    "### Storage adapter"
   ]
  },
  {
   "cell_type": "markdown",
   "id": "7607e293",
   "metadata": {},
   "source": [
    "ChatterBot comes with built in adapter classes that allow it to connect to different types of databases. In this tutorial, we will be using the SQLStorageAdapter which allows the chat bot to connect to SQL databases. By default, this adapter will create a SQLite database.\n",
    "\n",
    "The database parameter is used to specify the path to the database that the chat bot will use. For this example we will call the database sqlite:///database.sqlite3. this file will be created automatically if it doesn’t already exist."
   ]
  },
  {
   "cell_type": "markdown",
   "id": "06282c30",
   "metadata": {},
   "source": [
    "### Logic adapter"
   ]
  },
  {
   "cell_type": "markdown",
   "id": "66353bf1",
   "metadata": {},
   "source": [
    "The logic_adapters parameter is a list of logic adapters. In ChatterBot, a logic adapter is a class that takes an input statement and returns a response to that statement.\n",
    "\n",
    "You can choose to use as many logic adapters as you would like. In this example we will use two logic adapters. The TimeLogicAdapter returns the current time when the input statement asks for it. The MathematicalEvaluation adapter solves math problems that use basic operations."
   ]
  },
  {
   "cell_type": "code",
   "execution_count": 2,
   "id": "c897884a",
   "metadata": {},
   "outputs": [
    {
     "name": "stderr",
     "output_type": "stream",
     "text": [
      "[nltk_data] Downloading package averaged_perceptron_tagger to\n",
      "[nltk_data]     C:\\Users\\kacper\\AppData\\Roaming\\nltk_data...\n",
      "[nltk_data]   Package averaged_perceptron_tagger is already up-to-\n",
      "[nltk_data]       date!\n",
      "[nltk_data] Downloading package punkt to\n",
      "[nltk_data]     C:\\Users\\kacper\\AppData\\Roaming\\nltk_data...\n",
      "[nltk_data]   Package punkt is already up-to-date!\n",
      "[nltk_data] Downloading package stopwords to\n",
      "[nltk_data]     C:\\Users\\kacper\\AppData\\Roaming\\nltk_data...\n",
      "[nltk_data]   Package stopwords is already up-to-date!\n"
     ]
    }
   ],
   "source": [
    "from chatterbot import ChatBot\n",
    "bot = ChatBot(\n",
    "    'Norman',\n",
    "    storage_adapter='chatterbot.storage.SQLStorageAdapter',\n",
    "    logic_adapters=[\n",
    "        'chatterbot.logic.MathematicalEvaluation',\n",
    "        'chatterbot.logic.TimeLogicAdapter'\n",
    "    ],\n",
    "    database_uri='sqlite:///database.sqlite3'\n",
    ")"
   ]
  },
  {
   "cell_type": "markdown",
   "id": "09d14867",
   "metadata": {},
   "source": [
    "### Response from bot"
   ]
  },
  {
   "cell_type": "markdown",
   "id": "956cf699",
   "metadata": {},
   "source": [
    "Next, you will want to create a while loop for your chat bot to run in. By breaking out of the loop when specific exceptions are triggered, we can exit the loop and stop the program when a user enters ctrl+c."
   ]
  },
  {
   "cell_type": "code",
   "execution_count": 26,
   "id": "8e3792e2",
   "metadata": {},
   "outputs": [
    {
     "name": "stdout",
     "output_type": "stream",
     "text": [
      "The current time is 03:25 PM\n",
      "The current time is 03:25 PM\n",
      "The current time is 03:25 PM\n",
      "The current time is 03:25 PM\n",
      "The current time is 03:25 PM\n",
      "The current time is 03:25 PM\n",
      "The current time is 03:25 PM\n",
      "The current time is 03:25 PM\n",
      "The current time is 03:25 PM\n",
      "The current time is 03:25 PM\n",
      "The current time is 03:25 PM\n",
      "The current time is 03:25 PM\n",
      "The current time is 03:25 PM\n",
      "The current time is 03:25 PM\n",
      "The current time is 03:25 PM\n",
      "The current time is 03:25 PM\n",
      "The current time is 03:25 PM\n",
      "The current time is 03:25 PM\n",
      "The current time is 03:25 PM\n",
      "The current time is 03:25 PM\n",
      "The current time is 03:25 PM\n",
      "The current time is 03:25 PM\n",
      "The current time is 03:25 PM\n",
      "The current time is 03:25 PM\n",
      "The current time is 03:25 PM\n",
      "The current time is 03:25 PM\n",
      "The current time is 03:25 PM\n",
      "The current time is 03:25 PM\n",
      "The current time is 03:25 PM\n",
      "The current time is 03:25 PM\n",
      "The current time is 03:25 PM\n",
      "The current time is 03:25 PM\n",
      "The current time is 03:25 PM\n",
      "The current time is 03:25 PM\n",
      "The current time is 03:25 PM\n",
      "The current time is 03:25 PM\n",
      "The current time is 03:25 PM\n"
     ]
    }
   ],
   "source": [
    "while True:\n",
    "    try:\n",
    "        bot_input = bot.get_response(input())\n",
    "        print(bot_input)\n",
    "\n",
    "    except(KeyboardInterrupt, EOFError, SystemExit):\n",
    "        break"
   ]
  },
  {
   "cell_type": "markdown",
   "id": "6f8d034a",
   "metadata": {},
   "source": [
    "At this point your chat bot, Norman will learn to communicate as you talk to him. You can speed up this process by training him with examples of existing conversations."
   ]
  },
  {
   "cell_type": "code",
   "execution_count": 3,
   "id": "0b9c721b",
   "metadata": {},
   "outputs": [
    {
     "name": "stdout",
     "output_type": "stream",
     "text": [
      "List Trainer: [################    ] 80%"
     ]
    },
    {
     "name": "stderr",
     "output_type": "stream",
     "text": [
      "[nltk_data] Downloading package averaged_perceptron_tagger to\n",
      "[nltk_data]     C:\\Users\\kacper\\AppData\\Roaming\\nltk_data...\n",
      "[nltk_data]   Package averaged_perceptron_tagger is already up-to-\n",
      "[nltk_data]       date!\n",
      "[nltk_data] Downloading package punkt to\n",
      "[nltk_data]     C:\\Users\\kacper\\AppData\\Roaming\\nltk_data...\n",
      "[nltk_data]   Package punkt is already up-to-date!\n",
      "[nltk_data] Downloading package stopwords to\n",
      "[nltk_data]     C:\\Users\\kacper\\AppData\\Roaming\\nltk_data...\n",
      "[nltk_data]   Package stopwords is already up-to-date!\n"
     ]
    },
    {
     "name": "stdout",
     "output_type": "stream",
     "text": [
      "List Trainer: [####################] 100%\n"
     ]
    }
   ],
   "source": [
    "from chatterbot import ChatBot\n",
    "chatbot = ChatBot(\"Ron Obvious\", logic_adapters=[\n",
    "        'chatterbot.logic.MathematicalEvaluation'])\n",
    "\n",
    "from chatterbot.trainers import ListTrainer\n",
    "\n",
    "# chatbot.set_trainer(ListTrainer)\n",
    "# chatbot.train([\n",
    "#     'How are you?',\n",
    "#     'I am good.',\n",
    "#     'That is good to hear.',\n",
    "#     'Thank you',\n",
    "#     'You are welcome.',\n",
    "# ])\n",
    "\n",
    "\n",
    "#OLD version\n",
    "trainer = ListTrainer(bot)\n",
    "trainer.train([ \n",
    "    'How are you?',\n",
    "    'I am good.',\n",
    "    'That is good to hear.',\n",
    "    'Thank you',\n",
    "    'You are welcome.',\n",
    "])"
   ]
  },
  {
   "cell_type": "code",
   "execution_count": 4,
   "id": "5cbd22b7",
   "metadata": {},
   "outputs": [
    {
     "ename": "AttributeError",
     "evalue": "'NoneType' object has no attribute 'text'",
     "output_type": "error",
     "traceback": [
      "\u001b[1;31m---------------------------------------------------------------------------\u001b[0m",
      "\u001b[1;31mAttributeError\u001b[0m                            Traceback (most recent call last)",
      "Cell \u001b[1;32mIn [4], line 3\u001b[0m\n\u001b[0;32m      1\u001b[0m \u001b[39mwhile\u001b[39;00m \u001b[39mTrue\u001b[39;00m:\n\u001b[0;32m      2\u001b[0m     \u001b[39mtry\u001b[39;00m:\n\u001b[1;32m----> 3\u001b[0m         bot_input \u001b[39m=\u001b[39m chatbot\u001b[39m.\u001b[39mget_response(\u001b[39minput\u001b[39m())\n\u001b[0;32m      4\u001b[0m         \u001b[39mprint\u001b[39m(bot_input)\n\u001b[0;32m      6\u001b[0m     \u001b[39mexcept\u001b[39;00m(\u001b[39mKeyboardInterrupt\u001b[39;00m, \u001b[39mEOFError\u001b[39;00m, \u001b[39mSystemExit\u001b[39;00m):\n",
      "File \u001b[1;32mc:\\Users\\kacper\\AppData\\Local\\Programs\\Python\\Python39\\lib\\site-packages\\chatterbot\\chatterbot.py:137\u001b[0m, in \u001b[0;36mChatBot.get_response\u001b[1;34m(self, statement, **kwargs)\u001b[0m\n\u001b[0;32m    134\u001b[0m \u001b[39mif\u001b[39;00m \u001b[39mnot\u001b[39;00m input_statement\u001b[39m.\u001b[39msearch_in_response_to \u001b[39mand\u001b[39;00m input_statement\u001b[39m.\u001b[39min_response_to:\n\u001b[0;32m    135\u001b[0m     input_statement\u001b[39m.\u001b[39msearch_in_response_to \u001b[39m=\u001b[39m \u001b[39mself\u001b[39m\u001b[39m.\u001b[39mstorage\u001b[39m.\u001b[39mtagger\u001b[39m.\u001b[39mget_bigram_pair_string(input_statement\u001b[39m.\u001b[39min_response_to)\n\u001b[1;32m--> 137\u001b[0m response \u001b[39m=\u001b[39m \u001b[39mself\u001b[39;49m\u001b[39m.\u001b[39;49mgenerate_response(input_statement, additional_response_selection_parameters)\n\u001b[0;32m    139\u001b[0m \u001b[39m# Update any response data that needs to be changed\u001b[39;00m\n\u001b[0;32m    140\u001b[0m \u001b[39mif\u001b[39;00m persist_values_to_response:\n",
      "File \u001b[1;32mc:\\Users\\kacper\\AppData\\Local\\Programs\\Python\\Python39\\lib\\site-packages\\chatterbot\\chatterbot.py:221\u001b[0m, in \u001b[0;36mChatBot.generate_response\u001b[1;34m(self, input_statement, additional_response_selection_parameters)\u001b[0m\n\u001b[0;32m    217\u001b[0m     \u001b[39mif\u001b[39;00m most_common\u001b[39m.\u001b[39mcount \u001b[39m>\u001b[39m \u001b[39m1\u001b[39m:\n\u001b[0;32m    218\u001b[0m         result \u001b[39m=\u001b[39m most_common\u001b[39m.\u001b[39mstatement\n\u001b[0;32m    220\u001b[0m response \u001b[39m=\u001b[39m Statement(\n\u001b[1;32m--> 221\u001b[0m     text\u001b[39m=\u001b[39mresult\u001b[39m.\u001b[39;49mtext,\n\u001b[0;32m    222\u001b[0m     in_response_to\u001b[39m=\u001b[39minput_statement\u001b[39m.\u001b[39mtext,\n\u001b[0;32m    223\u001b[0m     conversation\u001b[39m=\u001b[39minput_statement\u001b[39m.\u001b[39mconversation,\n\u001b[0;32m    224\u001b[0m     persona\u001b[39m=\u001b[39m\u001b[39m'\u001b[39m\u001b[39mbot:\u001b[39m\u001b[39m'\u001b[39m \u001b[39m+\u001b[39m \u001b[39mself\u001b[39m\u001b[39m.\u001b[39mname\n\u001b[0;32m    225\u001b[0m )\n\u001b[0;32m    227\u001b[0m response\u001b[39m.\u001b[39mconfidence \u001b[39m=\u001b[39m result\u001b[39m.\u001b[39mconfidence\n\u001b[0;32m    229\u001b[0m \u001b[39mreturn\u001b[39;00m response\n",
      "\u001b[1;31mAttributeError\u001b[0m: 'NoneType' object has no attribute 'text'"
     ]
    }
   ],
   "source": [
    "while True:\n",
    "    try:\n",
    "        bot_input = chatbot.get_response(input())\n",
    "        print(bot_input)\n",
    "\n",
    "    except(KeyboardInterrupt, EOFError, SystemExit):\n",
    "        break"
   ]
  },
  {
   "cell_type": "markdown",
   "id": "2788dc08",
   "metadata": {},
   "source": [
    "### Simple example"
   ]
  },
  {
   "cell_type": "code",
   "execution_count": 6,
   "id": "6d881a69",
   "metadata": {},
   "outputs": [
    {
     "name": "stdout",
     "output_type": "stream",
     "text": [
      "List Trainer: [####################] 100%"
     ]
    },
    {
     "name": "stderr",
     "output_type": "stream",
     "text": [
      "[nltk_data] Downloading package averaged_perceptron_tagger to\n",
      "[nltk_data]     C:\\Users\\kacper\\AppData\\Roaming\\nltk_data...\n",
      "[nltk_data]   Package averaged_perceptron_tagger is already up-to-\n",
      "[nltk_data]       date!\n",
      "[nltk_data] Downloading package punkt to\n",
      "[nltk_data]     C:\\Users\\kacper\\AppData\\Roaming\\nltk_data...\n",
      "[nltk_data]   Package punkt is already up-to-date!\n",
      "[nltk_data] Downloading package stopwords to\n",
      "[nltk_data]     C:\\Users\\kacper\\AppData\\Roaming\\nltk_data...\n",
      "[nltk_data]   Package stopwords is already up-to-date!\n"
     ]
    },
    {
     "name": "stdout",
     "output_type": "stream",
     "text": [
      "\n",
      "Your flight has been booked.\n"
     ]
    }
   ],
   "source": [
    "from chatterbot import ChatBot\n",
    "from chatterbot.trainers import ListTrainer\n",
    "\n",
    "# Create a new chat bot named Charlie\n",
    "chatbot = ChatBot('Charlie')\n",
    "\n",
    "# chatbot.set_trainer(ListTrainer)\n",
    "# chatbot.train([\n",
    "#     \"Hi, can I help you?\",\n",
    "#     \"Sure, I'd like to book a flight to Iceland.\",\n",
    "#     \"Your flight has been booked.\"\n",
    "# ])\n",
    "\n",
    "#OLD version\n",
    "trainer = ListTrainer(chatbot)\n",
    "trainer.train([\n",
    "    \"Hi, can I help you?\",\n",
    "    \"Sure, I'd like to book a flight to Iceland.\",\n",
    "    \"Your flight has been booked.\"\n",
    "])\n",
    "\n",
    "# Get a response to the input text 'I would like to book a flight.'\n",
    "response = chatbot.get_response('I would like to book a flight.')\n",
    "\n",
    "print(response)\n"
   ]
  },
  {
   "cell_type": "markdown",
   "id": "75a3d2c1",
   "metadata": {},
   "source": [
    "### More advanced example"
   ]
  },
  {
   "cell_type": "code",
   "execution_count": 14,
   "id": "0069c09c",
   "metadata": {},
   "outputs": [
    {
     "name": "stderr",
     "output_type": "stream",
     "text": [
      "[nltk_data] Downloading package averaged_perceptron_tagger to\n",
      "[nltk_data]     C:\\Users\\kacper\\AppData\\Roaming\\nltk_data...\n",
      "[nltk_data]   Package averaged_perceptron_tagger is already up-to-\n",
      "[nltk_data]       date!\n",
      "[nltk_data] Downloading package punkt to\n",
      "[nltk_data]     C:\\Users\\kacper\\AppData\\Roaming\\nltk_data...\n",
      "[nltk_data]   Package punkt is already up-to-date!\n",
      "[nltk_data] Downloading package stopwords to\n",
      "[nltk_data]     C:\\Users\\kacper\\AppData\\Roaming\\nltk_data...\n",
      "[nltk_data]   Package stopwords is already up-to-date!\n"
     ]
    },
    {
     "name": "stdout",
     "output_type": "stream",
     "text": [
      "Type something to begin...\n"
     ]
    },
    {
     "name": "stderr",
     "output_type": "stream",
     "text": [
      "No value for search_text was available on the provided input\n"
     ]
    },
    {
     "name": "stdout",
     "output_type": "stream",
     "text": [
      "hi\n"
     ]
    },
    {
     "name": "stderr",
     "output_type": "stream",
     "text": [
      "No value for search_text was available on the provided input\n"
     ]
    },
    {
     "name": "stdout",
     "output_type": "stream",
     "text": [
      "hello\n"
     ]
    },
    {
     "name": "stderr",
     "output_type": "stream",
     "text": [
      "No value for search_text was available on the provided input\n"
     ]
    },
    {
     "name": "stdout",
     "output_type": "stream",
     "text": [
      "hello\n"
     ]
    },
    {
     "name": "stderr",
     "output_type": "stream",
     "text": [
      "No value for search_text was available on the provided input\n"
     ]
    },
    {
     "name": "stdout",
     "output_type": "stream",
     "text": [
      "hello\n"
     ]
    },
    {
     "name": "stderr",
     "output_type": "stream",
     "text": [
      "No value for search_text was available on the provided input\n"
     ]
    },
    {
     "name": "stdout",
     "output_type": "stream",
     "text": [
      "hi\n"
     ]
    },
    {
     "name": "stderr",
     "output_type": "stream",
     "text": [
      "No value for search_text was available on the provided input\n"
     ]
    },
    {
     "name": "stdout",
     "output_type": "stream",
     "text": [
      "hi\n"
     ]
    },
    {
     "name": "stderr",
     "output_type": "stream",
     "text": [
      "No value for search_text was available on the provided input\n"
     ]
    },
    {
     "name": "stdout",
     "output_type": "stream",
     "text": [
      "hi\n"
     ]
    },
    {
     "name": "stderr",
     "output_type": "stream",
     "text": [
      "No value for search_text was available on the provided input\n"
     ]
    },
    {
     "name": "stdout",
     "output_type": "stream",
     "text": [
      "hello\n"
     ]
    }
   ],
   "source": [
    "from chatterbot import ChatBot\n",
    "\n",
    "\n",
    "# Uncomment the following lines to enable verbose logging\n",
    "# import logging\n",
    "# logging.basicConfig(level=logging.INFO)\n",
    "\n",
    "# Create a new instance of a ChatBot\n",
    "bot = ChatBot(\n",
    "    'Terminal',\n",
    "    storage_adapter='chatterbot.storage.SQLStorageAdapter',\n",
    "    logic_adapters=[\n",
    "        'chatterbot.logic.MathematicalEvaluation',\n",
    "        'chatterbot.logic.BestMatch'\n",
    "    ],\n",
    "    database_uri='sqlite:///database.db'\n",
    ")\n",
    "\n",
    "print('Type something to begin...')\n",
    "\n",
    "# The following loop will execute each time the user enters input\n",
    "while True:\n",
    "    try:\n",
    "        user_input = input()\n",
    "\n",
    "        bot_response = bot.get_response(user_input)\n",
    "\n",
    "        print(bot_response)\n",
    "\n",
    "    # Press ctrl-c or ctrl-d on the keyboard to exit\n",
    "    except (KeyboardInterrupt, EOFError, SystemExit):\n",
    "        break"
   ]
  },
  {
   "cell_type": "code",
   "execution_count": 15,
   "id": "853aed99",
   "metadata": {},
   "outputs": [
    {
     "name": "stdout",
     "output_type": "stream",
     "text": [
      "4 + 9 = 13\n"
     ]
    },
    {
     "name": "stderr",
     "output_type": "stream",
     "text": [
      "[nltk_data] Downloading package averaged_perceptron_tagger to\n",
      "[nltk_data]     C:\\Users\\kacper\\AppData\\Roaming\\nltk_data...\n",
      "[nltk_data]   Package averaged_perceptron_tagger is already up-to-\n",
      "[nltk_data]       date!\n",
      "[nltk_data] Downloading package punkt to\n",
      "[nltk_data]     C:\\Users\\kacper\\AppData\\Roaming\\nltk_data...\n",
      "[nltk_data]   Package punkt is already up-to-date!\n",
      "[nltk_data] Downloading package stopwords to\n",
      "[nltk_data]     C:\\Users\\kacper\\AppData\\Roaming\\nltk_data...\n",
      "[nltk_data]   Package stopwords is already up-to-date!\n"
     ]
    }
   ],
   "source": [
    "from chatterbot import ChatBot\n",
    "\n",
    "\n",
    "bot = ChatBot(\n",
    "    'Math & Time Bot',\n",
    "    logic_adapters=['chatterbot.logic.MathematicalEvaluation'])\n",
    "\n",
    "# Print an example of getting one math based response\n",
    "response = bot.get_response('What is 4 + 9?')\n",
    "print(response)"
   ]
  },
  {
   "cell_type": "markdown",
   "id": "19dd9906",
   "metadata": {},
   "source": [
    "### Training"
   ]
  },
  {
   "cell_type": "markdown",
   "id": "43501d21",
   "metadata": {},
   "source": [
    "Training comes with sequences of sentences when one goes after another."
   ]
  },
  {
   "cell_type": "markdown",
   "id": "d0d993e6",
   "metadata": {},
   "source": [
    "<img src=\"training-graph.svg\">"
   ]
  },
  {
   "cell_type": "code",
   "execution_count": 16,
   "id": "0f1d84e6",
   "metadata": {},
   "outputs": [
    {
     "name": "stdout",
     "output_type": "stream",
     "text": [
      "List Trainer: [####################] 100%\n",
      "List Trainer: [####################] 100%\n"
     ]
    },
    {
     "name": "stderr",
     "output_type": "stream",
     "text": [
      "[nltk_data] Downloading package averaged_perceptron_tagger to\n",
      "[nltk_data]     C:\\Users\\kacper\\AppData\\Roaming\\nltk_data...\n",
      "[nltk_data]   Package averaged_perceptron_tagger is already up-to-\n",
      "[nltk_data]       date!\n",
      "[nltk_data] Downloading package punkt to\n",
      "[nltk_data]     C:\\Users\\kacper\\AppData\\Roaming\\nltk_data...\n",
      "[nltk_data]   Package punkt is already up-to-date!\n",
      "[nltk_data] Downloading package stopwords to\n",
      "[nltk_data]     C:\\Users\\kacper\\AppData\\Roaming\\nltk_data...\n",
      "[nltk_data]   Package stopwords is already up-to-date!\n"
     ]
    }
   ],
   "source": [
    "chatbot = ChatBot('Training Example')\n",
    "    \n",
    "from chatterbot import ChatBot\n",
    "from chatterbot.trainers import ListTrainer\n",
    "\n",
    "# chatbot.set_trainer(ListTrainer)\n",
    "# chatbot.train([\"Hi there!\",\"Hello\",])\n",
    "# chatbot.train([\"Greetings!\", \"Hello\",])\n",
    "\n",
    "# OLD version\n",
    "trainer = ListTrainer(chatbot)\n",
    "trainer.train([\n",
    "    \"Hi there!\",\n",
    "    \"Hello\",\n",
    "])\n",
    "trainer.train([\n",
    "    \"Greetings!\",\n",
    "    \"Hello\",\n",
    "])"
   ]
  },
  {
   "cell_type": "code",
   "execution_count": 17,
   "id": "6effe293",
   "metadata": {},
   "outputs": [
    {
     "name": "stdout",
     "output_type": "stream",
     "text": [
      "List Trainer: [####################] 100%\n"
     ]
    }
   ],
   "source": [
    "# chatbot.train([\n",
    "#     \"How are you?\",\n",
    "#     \"I am good.\",\n",
    "#     \"That is good to hear.\",\n",
    "#     \"Thank you\",\n",
    "#     \"You are welcome.\",\n",
    "# ])\n",
    "#OLD version\n",
    "trainer.train([\n",
    "    \"How are you?\",\n",
    "    \"I am good.\",\n",
    "    \"That is good to hear.\",\n",
    "    \"Thank you\",\n",
    "    \"You are welcome.\",\n",
    "])"
   ]
  },
  {
   "cell_type": "markdown",
   "id": "536e9bcd",
   "metadata": {},
   "source": [
    "### One can train using corpus data"
   ]
  },
  {
   "cell_type": "code",
   "execution_count": 18,
   "id": "8031f170",
   "metadata": {},
   "outputs": [
    {
     "name": "stdout",
     "output_type": "stream",
     "text": [
      "Training ai.yml: [                    ] 2%"
     ]
    },
    {
     "name": "stderr",
     "output_type": "stream",
     "text": [
      "[nltk_data] Downloading package averaged_perceptron_tagger to\n",
      "[nltk_data]     C:\\Users\\kacper\\AppData\\Roaming\\nltk_data...\n",
      "[nltk_data]   Package averaged_perceptron_tagger is already up-to-\n",
      "[nltk_data]       date!\n",
      "[nltk_data] Downloading package punkt to\n",
      "[nltk_data]     C:\\Users\\kacper\\AppData\\Roaming\\nltk_data...\n",
      "[nltk_data]   Package punkt is already up-to-date!\n",
      "[nltk_data] Downloading package stopwords to\n",
      "[nltk_data]     C:\\Users\\kacper\\AppData\\Roaming\\nltk_data...\n",
      "[nltk_data]   Package stopwords is already up-to-date!\n"
     ]
    },
    {
     "name": "stdout",
     "output_type": "stream",
     "text": [
      "Training ai.yml: [####################] 100%\n",
      "Training botprofile.yml: [####################] 100%\n",
      "Training computers.yml: [####################] 100%\n",
      "Training conversations.yml: [####################] 100%\n",
      "Training emotion.yml: [####################] 100%\n",
      "Training food.yml: [####################] 100%\n",
      "Training gossip.yml: [####################] 100%\n",
      "Training greetings.yml: [####################] 100%\n",
      "Training health.yml: [####################] 100%\n",
      "Training history.yml: [####################] 100%\n",
      "Training humor.yml: [####################] 100%\n",
      "Training literature.yml: [####################] 100%\n",
      "Training money.yml: [####################] 100%\n",
      "Training movies.yml: [####################] 100%\n",
      "Training politics.yml: [####################] 100%\n",
      "Training psychology.yml: [####################] 100%\n",
      "Training science.yml: [####################] 100%\n",
      "Training sports.yml: [####################] 100%\n",
      "Training trivia.yml: [####################] 100%\n"
     ]
    }
   ],
   "source": [
    "chatbot = ChatBot('Training Example')\n",
    "from chatterbot import ChatBot\n",
    "from chatterbot.trainers import ChatterBotCorpusTrainer\n",
    "\n",
    "\n",
    "# chatbot.set_trainer(ChatterBotCorpusTrainer)\n",
    "\n",
    "# chatbot.train(\"chatterbot.corpus.english\")\n",
    "\n",
    "#OLD version\n",
    "trainer = ChatterBotCorpusTrainer(chatbot)\n",
    "trainer.train(\"chatterbot.corpus.english\")"
   ]
  },
  {
   "cell_type": "markdown",
   "id": "3948e1ff",
   "metadata": {},
   "source": [
    "We can also specify corpus files:"
   ]
  },
  {
   "cell_type": "code",
   "execution_count": 20,
   "id": "2fe67309",
   "metadata": {},
   "outputs": [
    {
     "name": "stdout",
     "output_type": "stream",
     "text": [
      "Training greetings.yml: [####################] 100%\n",
      "Training conversations.yml: [####################] 100%\n"
     ]
    }
   ],
   "source": [
    "trainer.train(\n",
    "    \"chatterbot.corpus.english.greetings\",\n",
    "    \"chatterbot.corpus.english.conversations\"\n",
    ")"
   ]
  },
  {
   "cell_type": "markdown",
   "id": "df6942a3",
   "metadata": {},
   "source": [
    "### Preprocessor"
   ]
  },
  {
   "cell_type": "markdown",
   "id": "19bf3033",
   "metadata": {},
   "source": [
    "ChatterBot’s preprocessors are simple functions that modify the input statement that a chat bot receives before the statement gets processed by the logic adaper."
   ]
  },
  {
   "cell_type": "code",
   "execution_count": 21,
   "id": "2613b56a",
   "metadata": {},
   "outputs": [
    {
     "name": "stderr",
     "output_type": "stream",
     "text": [
      "[nltk_data] Downloading package averaged_perceptron_tagger to\n",
      "[nltk_data]     C:\\Users\\kacper\\AppData\\Roaming\\nltk_data...\n",
      "[nltk_data]   Package averaged_perceptron_tagger is already up-to-\n",
      "[nltk_data]       date!\n",
      "[nltk_data] Downloading package punkt to\n",
      "[nltk_data]     C:\\Users\\kacper\\AppData\\Roaming\\nltk_data...\n",
      "[nltk_data]   Package punkt is already up-to-date!\n",
      "[nltk_data] Downloading package stopwords to\n",
      "[nltk_data]     C:\\Users\\kacper\\AppData\\Roaming\\nltk_data...\n",
      "[nltk_data]   Package stopwords is already up-to-date!\n"
     ]
    }
   ],
   "source": [
    "chatbot = ChatBot(\n",
    "    'Bob the Bot',\n",
    "    preprocessors=[\n",
    "        'chatterbot.preprocessors.clean_whitespace'\n",
    "    ]\n",
    ")"
   ]
  },
  {
   "cell_type": "markdown",
   "id": "ffa0f490",
   "metadata": {},
   "source": [
    "### Logic adapter"
   ]
  },
  {
   "cell_type": "markdown",
   "id": "994fe4b0",
   "metadata": {},
   "source": [
    "<img src=\"dialog-processing-flow.svg\">"
   ]
  },
  {
   "cell_type": "markdown",
   "id": "0f2aad46",
   "metadata": {},
   "source": [
    "We have various [logic adapters](https://chatterbot.readthedocs.io/en/stable/logic/index.html):\n",
    "- Best Match Adapter - selects a response based on the best known match to a given statement.\n",
    "- Time Logic Adapter - identifies statements in which a question about the current time is asked. If a matching question is detected, then a response containing the current time is returned.\n",
    "- Mathematical Evaluation Adapter - checks a given statement to see if it contains a mathematical expression that can be evaluated. If one exists, then it returns a response containing the result. This adapter is able to handle any combination of word and numeric operators.\n",
    "- Specific Response Adapter - If the input that the chat bot receives, matches the input text specified for this adapter, the specified response will be returned."
   ]
  },
  {
   "cell_type": "code",
   "execution_count": 1,
   "id": "e8e23aea",
   "metadata": {},
   "outputs": [
    {
     "name": "stdout",
     "output_type": "stream",
     "text": [
      "4 + 9 = 13\n"
     ]
    },
    {
     "name": "stderr",
     "output_type": "stream",
     "text": [
      "[nltk_data] Downloading package averaged_perceptron_tagger to\n",
      "[nltk_data]     C:\\Users\\kacper\\AppData\\Roaming\\nltk_data...\n",
      "[nltk_data]   Package averaged_perceptron_tagger is already up-to-\n",
      "[nltk_data]       date!\n",
      "[nltk_data] Downloading package punkt to\n",
      "[nltk_data]     C:\\Users\\kacper\\AppData\\Roaming\\nltk_data...\n",
      "[nltk_data]   Package punkt is already up-to-date!\n",
      "[nltk_data] Downloading package stopwords to\n",
      "[nltk_data]     C:\\Users\\kacper\\AppData\\Roaming\\nltk_data...\n",
      "[nltk_data]   Package stopwords is already up-to-date!\n"
     ]
    }
   ],
   "source": [
    "from chatterbot import ChatBot\n",
    "\n",
    "\n",
    "bot = ChatBot(\n",
    "    'Math & Time Bot',\n",
    "    logic_adapters=['chatterbot.logic.MathematicalEvaluation'])\n",
    "\n",
    "# Print an example of getting one math based response\n",
    "response = bot.get_response('What is 4 + 9?')\n",
    "print(response)"
   ]
  },
  {
   "cell_type": "markdown",
   "id": "9e19d4df",
   "metadata": {},
   "source": [
    "### Example"
   ]
  },
  {
   "cell_type": "code",
   "execution_count": 2,
   "id": "f72786e6",
   "metadata": {},
   "outputs": [
    {
     "data": {
      "text/plain": [
       "{'status': 'ok', 'restart': True}"
      ]
     },
     "execution_count": 2,
     "metadata": {},
     "output_type": "execute_result"
    },
    {
     "ename": "",
     "evalue": "",
     "output_type": "error",
     "traceback": [
      "\u001b[1;31mThe Kernel crashed while executing code in the the current cell or a previous cell. Please review the code in the cell(s) to identify a possible cause of the failure. Click <a href='https://aka.ms/vscodeJupyterKernelCrash'>here</a> for more info. View Jupyter <a href='command:jupyter.viewOutput'>log</a> for further details."
     ]
    }
   ],
   "source": [
    "# restart Python kernel to fresh start\n",
    "import IPython\n",
    "\n",
    "IPython.Application.instance().kernel.do_shutdown(True)"
   ]
  },
  {
   "cell_type": "code",
   "execution_count": 2,
   "id": "30afd959",
   "metadata": {},
   "outputs": [
    {
     "name": "stdout",
     "output_type": "stream",
     "text": [
      "Training ai.yml: [                    ] 1%"
     ]
    },
    {
     "name": "stderr",
     "output_type": "stream",
     "text": [
      "[nltk_data] Downloading package averaged_perceptron_tagger to\n",
      "[nltk_data]     C:\\Users\\kacper\\AppData\\Roaming\\nltk_data...\n",
      "[nltk_data]   Package averaged_perceptron_tagger is already up-to-\n",
      "[nltk_data]       date!\n",
      "[nltk_data] Downloading package punkt to\n",
      "[nltk_data]     C:\\Users\\kacper\\AppData\\Roaming\\nltk_data...\n",
      "[nltk_data]   Package punkt is already up-to-date!\n",
      "[nltk_data] Downloading package stopwords to\n",
      "[nltk_data]     C:\\Users\\kacper\\AppData\\Roaming\\nltk_data...\n",
      "[nltk_data]   Package stopwords is already up-to-date!\n"
     ]
    },
    {
     "name": "stdout",
     "output_type": "stream",
     "text": [
      "Training ai.yml: [####################] 100%\n",
      "Training botprofile.yml: [####################] 100%\n",
      "Training computers.yml: [####################] 100%\n",
      "Training conversations.yml: [####################] 100%\n",
      "Training emotion.yml: [####################] 100%\n",
      "Training food.yml: [####################] 100%\n",
      "Training gossip.yml: [####################] 100%\n",
      "Training greetings.yml: [####################] 100%\n",
      "Training health.yml: [####################] 100%\n",
      "Training history.yml: [####################] 100%\n",
      "Training humor.yml: [####################] 100%\n",
      "Training literature.yml: [####################] 100%\n",
      "Training money.yml: [####################] 100%\n",
      "Training movies.yml: [####################] 100%\n",
      "Training politics.yml: [####################] 100%\n",
      "Training psychology.yml: [####################] 100%\n",
      "Training science.yml: [####################] 100%\n",
      "Training sports.yml: [####################] 100%\n",
      "Training trivia.yml: [####################] 100%\n"
     ]
    },
    {
     "name": "stderr",
     "output_type": "stream",
     "text": [
      "No value for search_text was available on the provided input\n"
     ]
    },
    {
     "name": "stdout",
     "output_type": "stream",
     "text": [
      "Good morning!\n",
      "How are you doing?\n",
      "I'm a software construct, I'm not really capable of feeling sad.\n"
     ]
    },
    {
     "name": "stderr",
     "output_type": "stream",
     "text": [
      "No value for search_text was available on the provided input\n"
     ]
    },
    {
     "name": "stdout",
     "output_type": "stream",
     "text": [
      "Good morning!\n"
     ]
    },
    {
     "name": "stderr",
     "output_type": "stream",
     "text": [
      "No value for search_text was available on the provided input\n"
     ]
    },
    {
     "name": "stdout",
     "output_type": "stream",
     "text": [
      "Good morning!\n"
     ]
    },
    {
     "name": "stderr",
     "output_type": "stream",
     "text": [
      "No value for search_text was available on the provided input\n"
     ]
    },
    {
     "name": "stdout",
     "output_type": "stream",
     "text": [
      "Hello\n"
     ]
    }
   ],
   "source": [
    "from chatterbot import ChatBot\n",
    "from chatterbot.trainers import ChatterBotCorpusTrainer\n",
    "\n",
    "#create chatbot\n",
    "chatbot = ChatBot('HAL', preprocessors=['chatterbot.preprocessors.clean_whitespace'], \\\n",
    "                  #storage_adapter='chatterbot.storage.SQLStorageAdapter', \\\n",
    "                  logic_adapters=[ 'chatterbot.logic.MathematicalEvaluation', 'chatterbot.logic.BestMatch'], \\\n",
    "                  #database_uri='sqlite:///database.db')\n",
    "                 )\n",
    "#training\n",
    "# chatbot.set_trainer(ChatterBotCorpusTrainer)\n",
    "# chatbot.train( \"chatterbot.corpus.english\")\n",
    "#OLD version\n",
    "trainer = ChatterBotCorpusTrainer(chatbot)\n",
    "trainer.train( \"chatterbot.corpus.english\")\n",
    "\n",
    "# The following loop will execute each time the user enters input\n",
    "while True:\n",
    "    try:\n",
    "        user_input = input()\n",
    "\n",
    "        bot_response = chatbot.get_response(user_input)\n",
    "\n",
    "        print(bot_response)\n",
    "\n",
    "    # Press ctrl-c or ctrl-d on the keyboard to exit\n",
    "    except (KeyboardInterrupt, EOFError, SystemExit):\n",
    "        break\n"
   ]
  },
  {
   "cell_type": "markdown",
   "id": "f76b538d",
   "metadata": {},
   "source": [
    "## Exercise"
   ]
  },
  {
   "cell_type": "markdown",
   "id": "93050a21",
   "metadata": {},
   "source": [
    "Create your own chatbot for a specific purpose.\n",
    "\n",
    "Do research and tutorial:\n",
    "\n",
    "https://chatterbot.readthedocs.io/en/stable/index.html"
   ]
  },
  {
   "cell_type": "code",
   "execution_count": null,
   "id": "1f84e4c2",
   "metadata": {},
   "outputs": [],
   "source": []
  }
 ],
 "metadata": {
  "kernelspec": {
   "display_name": "Python 3.9.2 64-bit",
   "language": "python",
   "name": "python3"
  },
  "language_info": {
   "codemirror_mode": {
    "name": "ipython",
    "version": 3
   },
   "file_extension": ".py",
   "mimetype": "text/x-python",
   "name": "python",
   "nbconvert_exporter": "python",
   "pygments_lexer": "ipython3",
   "version": "3.9.2"
  },
  "vscode": {
   "interpreter": {
    "hash": "0abe801034007484f152c408f6878125c4d199d6c578a45ceffdae6ced931ee7"
   }
  }
 },
 "nbformat": 4,
 "nbformat_minor": 5
}
