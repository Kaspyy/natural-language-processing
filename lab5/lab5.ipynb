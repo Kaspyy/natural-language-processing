{
 "cells": [
  {
   "cell_type": "code",
   "execution_count": 1,
   "metadata": {},
   "outputs": [
    {
     "name": "stdout",
     "output_type": "stream",
     "text": [
      "Natural language processing (NLP) is a subfield of linguistics, computer science, and artificial intelligence concerned with the interactions between computers and human language, in particular how to program computers to process and analyze large amounts of natural language data.\n",
      "0.1965260161476905\n"
     ]
    }
   ],
   "source": [
    "# For a corpus:\n",
    "corpus = [\"Natural language processing (NLP) is a subfield of linguistics, computer science, and artificial intelligence concerned with the interactions between computers and human language, in particular how to program computers to process and analyze large amounts of natural language data.\", 'The goal is a computer capable of \"understanding\" the contents of documents, including the contextual nuances of the language within them.', 'The technology can then accurately extract information and insights contained in the documents as well as categorize and organize the documents themselves.', 'Challenges in natural language processing frequently involve speech recognition, natural language understanding, and natural language generation.' ]\n",
    "\n",
    "# Find the best matching sentence for the question:\n",
    "query = \"What is NLP?\"\n",
    "\n",
    "# Use cosine similarity and TFIDF vectors (e.g. from sckikit-learn).\n",
    "from nltk.tokenize import casual_tokenize\n",
    "from sklearn.feature_extraction.text import TfidfVectorizer\n",
    "from sklearn.metrics.pairwise import cosine_similarity\n",
    "\n",
    "# Tokenize the corpus and the query:\n",
    "corpus_tokens = [casual_tokenize(doc) for doc in corpus]\n",
    "query_tokens = casual_tokenize(query)\n",
    "\n",
    "# Create a TFIDF vectorizer:\n",
    "vectorizer = TfidfVectorizer()\n",
    "\n",
    "# Create a TFIDF matrix for the corpus:\n",
    "corpus_tfidf = vectorizer.fit_transform(corpus)\n",
    "\n",
    "# Create a TFIDF matrix for the query:\n",
    "query_tfidf = vectorizer.transform([query])\n",
    "\n",
    "# Compute the cosine similarity between the query and the corpus:\n",
    "cosine_similarities = cosine_similarity(query_tfidf, corpus_tfidf).flatten()\n",
    "\n",
    "# Find the most similar sentence:\n",
    "most_similar = cosine_similarities.argmax()\n",
    "\n",
    "# Print the most similar sentence:\n",
    "print(corpus[most_similar])\n",
    "\n",
    "# Print the similarity score:\n",
    "print(cosine_similarities[most_similar])"
   ]
  }
 ],
 "metadata": {
  "kernelspec": {
   "display_name": "Python 3.9.4 64-bit",
   "language": "python",
   "name": "python3"
  },
  "language_info": {
   "codemirror_mode": {
    "name": "ipython",
    "version": 3
   },
   "file_extension": ".py",
   "mimetype": "text/x-python",
   "name": "python",
   "nbconvert_exporter": "python",
   "pygments_lexer": "ipython3",
   "version": "3.9.4"
  },
  "orig_nbformat": 4,
  "vscode": {
   "interpreter": {
    "hash": "a9e48067059f8ad41182023408d526493981d260bb4682e3cf464c2105227d16"
   }
  }
 },
 "nbformat": 4,
 "nbformat_minor": 2
}
