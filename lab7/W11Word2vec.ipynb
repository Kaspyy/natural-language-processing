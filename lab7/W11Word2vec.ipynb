{
 "cells": [
  {
   "cell_type": "markdown",
   "id": "acf754ca",
   "metadata": {},
   "source": [
    "# W11 - Word2vec"
   ]
  },
  {
   "cell_type": "markdown",
   "id": "0b2e8b72",
   "metadata": {},
   "source": [
    "One of the most important addtion of Deep Learning to NLP is Word Vector."
   ]
  },
  {
   "cell_type": "markdown",
   "id": "e92975b3",
   "metadata": {},
   "source": [
    "**Definition** Word vectors are numerical vector representations of word semantics, or meaning, including literal and implied meaning. So word vectors can capture the connotation of words, like “peopleness,” “animalness,” “placeness,” “thingness,” and even “conceptness.” And they combine all that into a dense vector (no zeros) of floating point values. This dense vector enables queries and logical reasoning."
   ]
  },
  {
   "cell_type": "markdown",
   "id": "f52ba48b",
   "metadata": {},
   "source": [
    "### Semantic queries and analogies"
   ]
  },
  {
   "cell_type": "markdown",
   "id": "974df9aa",
   "metadata": {},
   "source": [
    "We have question:\n",
    "\n",
    "Q: 'She invented something to do with physics in Europe in the early 20th century.'\n",
    "\n",
    "We know that the answers is 'Maria Curie'.\n",
    "\n",
    "Google does not get precise answer since the matching is according to index and not semantics.\n"
   ]
  },
  {
   "cell_type": "markdown",
   "id": "1f3c6f76",
   "metadata": {},
   "source": [
    "Wuth word vectors we can do combination of meanings:"
   ]
  },
  {
   "cell_type": "raw",
   "id": "09a681e0",
   "metadata": {},
   "source": [
    "answer_vector = wv['woman'] + wv['Europe'] + wv[physics'] + wv['scientist']\n"
   ]
  },
  {
   "cell_type": "markdown",
   "id": "557f2ed9",
   "metadata": {},
   "source": [
    "We can then generate answer:"
   ]
  },
  {
   "cell_type": "raw",
   "id": "3e1ff741",
   "metadata": {},
   "source": [
    "answer_vector = wv['woman'] + wv['Europe'] + wv['physics'] + wv['scientist'] - wv['male'] - 2 * wv['man']\n"
   ]
  },
  {
   "cell_type": "markdown",
   "id": "43f9d528",
   "metadata": {},
   "source": [
    "This is the same aproach to semantic search from the previous lecture."
   ]
  },
  {
   "cell_type": "markdown",
   "id": "b19372f2",
   "metadata": {},
   "source": [
    "###  Analogy questions"
   ]
  },
  {
   "cell_type": "markdown",
   "id": "4198ab01",
   "metadata": {},
   "source": [
    "We can rephrase question to search for analogy of a scientists in different branch of science:\n",
    "\n",
    "Q: 'Who is to nuclear physics what Louis Pasteur is to germs?'\n",
    "\n",
    "A: The answer is probably 'Maria Curie'. However this is not the question about Louis Pasteur!\n",
    "\n",
    "The search engines as Google will give answers for Louis Pasteur.\n"
   ]
  },
  {
   "cell_type": "markdown",
   "id": "47cee90e",
   "metadata": {},
   "source": [
    "Word vector will be as folows:"
   ]
  },
  {
   "cell_type": "raw",
   "id": "5c7d9650",
   "metadata": {},
   "source": [
    "answer_vector = wv['Louis_Pasteur'] - wv['germs'] + wv['physics']\n"
   ]
  },
  {
   "cell_type": "markdown",
   "id": "891b24e1",
   "metadata": {},
   "source": [
    "Similar 'analogy questions':\n",
    "\n",
    "- Who is the Marie Curie of music?\n",
    "- Marie Curie is to science as who is to music?\n"
   ]
  },
  {
   "cell_type": "markdown",
   "id": "07dd8af6",
   "metadata": {},
   "source": [
    "Word vector would be like:"
   ]
  },
  {
   "cell_type": "raw",
   "id": "526f21c1",
   "metadata": {},
   "source": [
    "wv['Marie_Curie'] - wv['science'] + wv['music']\n"
   ]
  },
  {
   "cell_type": "markdown",
   "id": "0b74fee7",
   "metadata": {},
   "source": [
    "Another question:\n",
    "\n",
    "Q: The [Timbers](https://www.timbers.com/) are to Portland as what is to Seattle?\n",
    "\n",
    "Formulation:\n",
    "\n",
    "TIMBERS : PORTLAND :: ? : SEATTLE\n",
    "\n",
    "wv['Timbers'] - wv['Portland'] + wv['Seattle'] = ?\n",
    "\n",
    "<img src=\"TimberPortlandSeatle.png\">\n",
    "<img src=\"WordVectors.png\">\n",
    "\n",
    "\n",
    "**Note:**\n",
    "- [Portland Timbers](https://www.timbers.com/)\n",
    "- [Seatle Sounders](https://www.soundersfc.com/)"
   ]
  },
  {
   "cell_type": "markdown",
   "id": "a4529b8c",
   "metadata": {},
   "source": [
    "## Word2vec"
   ]
  },
  {
   "cell_type": "markdown",
   "id": "9a7d273b",
   "metadata": {},
   "source": [
    "Word2vec was first presented publicly in 2013 at the ACL conference by Tomas Mikolov, Kai Chen, Greg Corrado, Jeffrey Dean. The talk with the dryounding title [“Linguistic Regularities in Continuous Space Word Representations”](https://openreview.net/forum?id=idpCdOWtqXd60&noteId=C8Vn84fqSG8qa) described a surprisingly accurate language model. \n",
    "\n",
    "Word2vec embeddings were four times more accurate (45%) compared to  quivalent LSA models (11%) at answering analogy questions like those above. \n",
    "\n",
    "The accuracy improvement was so surprising, in fact, that Mikolov’s initial paper was rejected by the International Conference on Learning Representations. Reviewers thought that the model’s performance was too good to be true. It took nearly a year for Mikolov’s team to release the source code and get accepted to the Association for Computational Linguistics.\n",
    "\n"
   ]
  },
  {
   "cell_type": "markdown",
   "id": "0ef147eb",
   "metadata": {},
   "source": [
    "### How to compute word2vec"
   ]
  },
  {
   "cell_type": "markdown",
   "id": "f6f19967",
   "metadata": {},
   "source": [
    "Word vectors represent the semantic meaning of words as vectors in the context of the training corpus. This allows you not only to answer analogy questions but also reason about the meaning of words in more general ways with vector algebra.\n"
   ]
  },
  {
   "cell_type": "markdown",
   "id": "754a52b5",
   "metadata": {},
   "source": [
    "Pretrained word vector representations are available for corpora like [Wikipedia, DBPedia, Twitter, and Freebase](https://github.com/3Top/word2vec-api#where-to-get-a-pretrained-model). \n",
    "\n",
    "These pretrained models are great starting points for word vector applications:\n",
    "- Google provides a pretrained Word2vec model based on [English Google News articles](https://drive.google.com/file/d/0B7XkCwpI5KDYNlNUTTlSS21pQmM).\n",
    "- Facebook published their word model, called [fastText](https://github.com/facebookresearch/fastText), for 294 languages.\n"
   ]
  },
  {
   "cell_type": "markdown",
   "id": "49f0afb1",
   "metadata": {},
   "source": [
    "We can compute it by:\n",
    "- skip-gram approach - predicts the context of words (output words) from a word of interest (the input word).\n",
    "-  continuous bag-of-words (CBOW) approach - predicts the target word (the output word) from the nearby words (input words). "
   ]
  },
  {
   "cell_type": "markdown",
   "id": "b71b79b5",
   "metadata": {},
   "source": [
    "#### SKIP-GRAM APPROACH\n"
   ]
  },
  {
   "cell_type": "markdown",
   "id": "b1cd6edf",
   "metadata": {},
   "source": [
    "Skip-grams are n-grams that contain gaps because you skip over intervening tokens. "
   ]
  },
  {
   "cell_type": "markdown",
   "id": "3c7602c0",
   "metadata": {},
   "source": [
    "<img src=\"skip-gram.png\">\n",
    "\n",
    "You’re predicting “Claude” from the input token “painted,” and you skip over the token “Monet.”\n"
   ]
  },
  {
   "cell_type": "markdown",
   "id": "56740e1a",
   "metadata": {},
   "source": [
    "The structure of neural network for skip-grams is typical."
   ]
  },
  {
   "cell_type": "markdown",
   "id": "21596279",
   "metadata": {},
   "source": [
    "<img src=\"skipGramMonet.png\">"
   ]
  },
  {
   "cell_type": "markdown",
   "id": "7b701f7a",
   "metadata": {},
   "source": [
    "<img src=\"skipGramMonet2.png\">"
   ]
  },
  {
   "cell_type": "markdown",
   "id": "c04f7747",
   "metadata": {},
   "source": [
    "Examples of 5-grams:\n",
    "<img src =\"5gram.png\">"
   ]
  },
  {
   "cell_type": "markdown",
   "id": "36cb7fbd",
   "metadata": {},
   "source": [
    "#### CONTINUOUS BAG-OF-WORDS APPROACH\n"
   ]
  },
  {
   "cell_type": "markdown",
   "id": "835767c1",
   "metadata": {},
   "source": [
    "In the continuous bag-of-words (CBOW) approach, you’re trying to predict the center word based on the surrounding words. \n",
    "\n",
    "Instead of creating pairs of input and output tokens, you’ll create a multi-hot vector of all surrounding terms as an input vector. The multi-hot input vector is the sum of all one-hot vectors of the surrounding tokens to the center, target token.\n"
   ]
  },
  {
   "cell_type": "markdown",
   "id": "6faad1f6",
   "metadata": {},
   "source": [
    "<img src=\"CBOW1.png\">"
   ]
  },
  {
   "cell_type": "markdown",
   "id": "30597659",
   "metadata": {},
   "source": [
    "<img src=\"CBOW2.png\">"
   ]
  },
  {
   "cell_type": "markdown",
   "id": "cd97a1c4",
   "metadata": {},
   "source": [
    "<img src=\"CBOW5grams.png\">"
   ]
  },
  {
   "cell_type": "markdown",
   "id": "87dcd0d6",
   "metadata": {},
   "source": [
    "CBOW differs from BOW in the sense that we use a sliding window of sourrounding words:\n",
    "\n",
    "<img src=\"CBOWvsBOW.png\">"
   ]
  },
  {
   "cell_type": "markdown",
   "id": "15193f4f",
   "metadata": {},
   "source": [
    "### Some hints:"
   ]
  },
  {
   "cell_type": "markdown",
   "id": "954b1b22",
   "metadata": {},
   "source": [
    "Mikolov highlighted that **the skip-gram approach works well with small corpora and rare terms**. \n",
    "\n",
    "With the skip-gram approach, you’ll have more examples due to the network structure. \n",
    "\n",
    "But the **continuous bag-of-words approach shows higher accuracies for frequent words and is much faster to train**.\n"
   ]
  },
  {
   "cell_type": "markdown",
   "id": "7ee11590",
   "metadata": {},
   "source": [
    "### Some imporvements of Word2vec comparing to Mikolov's original vectors"
   ]
  },
  {
   "cell_type": "markdown",
   "id": "f68c9e19",
   "metadata": {},
   "source": [
    "- **Frequent bigrams** - include some bigrams (\"Elvis Presley; etc.) and trigrams as standard elements of word2vec;\n",
    "- **Subsampling frequent tokens** - words are sampled during training in inverse proportion of their frequencies. This excludes stop words as 'the', 'a', 'and' etc.\n",
    "- **Negative sampling** - instead of updating all word weights that weren’t included in the word window, Mikolov suggested sampling just a few negative samples (in the output vector) to update their weights. Instead of updating all weights, you pick n negative example word pairs (words that don’t match your target output for that example) and update the weights that contributed to their specific output. That way, the computation can be reduced dramatically and the performance of the trained network doesn’t decrease significantly.\n"
   ]
  },
  {
   "cell_type": "markdown",
   "id": "b5ceba9c",
   "metadata": {},
   "source": [
    "## Gensim Word.2vec"
   ]
  },
  {
   "cell_type": "markdown",
   "id": "5ba89957",
   "metadata": {},
   "source": [
    "We will use standard [Gensim](https://radimrehurek.com/gensim/models/word2vec.html) python implementation/embedding of word2vec.\n",
    "\n",
    "Installation:\n",
    "\n",
    "sudo pip install gensim"
   ]
  },
  {
   "cell_type": "markdown",
   "id": "114e369d",
   "metadata": {},
   "source": [
    "#### Example"
   ]
  },
  {
   "cell_type": "markdown",
   "id": "2a60f83f",
   "metadata": {},
   "source": [
    "We download 300 google word2vec:"
   ]
  },
  {
   "cell_type": "code",
   "execution_count": 3,
   "id": "531ff2cd",
   "metadata": {},
   "outputs": [],
   "source": [
    "#import gensim.downloader as api\n",
    "#wv = api.load('word2vec-google-news-300')"
   ]
  },
  {
   "cell_type": "markdown",
   "id": "5552bb50",
   "metadata": {},
   "source": [
    "Alternatively, we can download the file:\n",
    "\n",
    "wget -c \"https://s3.amazonaws.com/dl4j-distribution/GoogleNews-vectors-negative300.bin.gz\"\n",
    "\n",
    "and then load the 200k most common words from the Google News corpus:"
   ]
  },
  {
   "cell_type": "code",
   "execution_count": 4,
   "id": "367d0605",
   "metadata": {},
   "outputs": [],
   "source": [
    "from gensim.models.keyedvectors import KeyedVectors\n",
    "word_vectors = KeyedVectors.load_word2vec_format('./GoogleNews-vectors-negative300.bin.gz', binary=True, limit=200000)"
   ]
  },
  {
   "cell_type": "markdown",
   "id": "6540872b",
   "metadata": {},
   "source": [
    "**Warning** Keep in mind that a word vector model with a limited vocabulary will lead to a\n",
    "lower performance of your NLP pipeline if your documents contain words that you haven’t loaded word vectors for. Therefore, you probably only want to limit the size of your word vector model during the development phase."
   ]
  },
  {
   "cell_type": "markdown",
   "id": "28372264",
   "metadata": {},
   "source": [
    "gensim.KeyedVectors.most_similar() - provides an efficient way to find the nearest neighbors for any given word vector. "
   ]
  },
  {
   "cell_type": "code",
   "execution_count": 5,
   "id": "59d492bb",
   "metadata": {},
   "outputs": [
    {
     "data": {
      "text/plain": [
       "[('cook', 0.6973530650138855),\n",
       " ('sweet_potatoes', 0.6600280404090881),\n",
       " ('vegetables', 0.6513738036155701),\n",
       " ('onions', 0.6512383222579956),\n",
       " ('baking', 0.6481683850288391)]"
      ]
     },
     "execution_count": 5,
     "metadata": {},
     "output_type": "execute_result"
    }
   ],
   "source": [
    "word_vectors.most_similar(positive=['cooking', 'potatoes'], topn=5)"
   ]
  },
  {
   "cell_type": "code",
   "execution_count": 9,
   "id": "98d387d6",
   "metadata": {},
   "outputs": [
    {
     "data": {
      "text/plain": [
       "[('europe', 0.731697678565979)]"
      ]
     },
     "execution_count": 9,
     "metadata": {},
     "output_type": "execute_result"
    }
   ],
   "source": [
    "word_vectors.most_similar(positive=['usa', 'england'], topn=1)"
   ]
  },
  {
   "cell_type": "markdown",
   "id": "9d322a64",
   "metadata": {},
   "source": [
    "gensim provides method that check which word does not match:"
   ]
  },
  {
   "cell_type": "code",
   "execution_count": 10,
   "id": "e95574e7",
   "metadata": {},
   "outputs": [
    {
     "data": {
      "text/plain": [
       "'computer'"
      ]
     },
     "execution_count": 10,
     "metadata": {},
     "output_type": "execute_result"
    }
   ],
   "source": [
    "word_vectors.doesnt_match(\"potatoes milk cake computer\".split())"
   ]
  },
  {
   "cell_type": "markdown",
   "id": "fcaf6539",
   "metadata": {},
   "source": [
    "We can also check teh similarity of two words in the corpus:"
   ]
  },
  {
   "cell_type": "code",
   "execution_count": 11,
   "id": "0dc15a2a",
   "metadata": {},
   "outputs": [
    {
     "data": {
      "text/plain": [
       "0.7070532"
      ]
     },
     "execution_count": 11,
     "metadata": {},
     "output_type": "execute_result"
    }
   ],
   "source": [
    "word_vectors.similarity('princess', 'queen')"
   ]
  },
  {
   "cell_type": "markdown",
   "id": "655ee543",
   "metadata": {},
   "source": [
    "We can see the whole vector for a word as follows:"
   ]
  },
  {
   "cell_type": "code",
   "execution_count": 12,
   "id": "0820bf66",
   "metadata": {},
   "outputs": [
    {
     "data": {
      "text/plain": [
       "array([-0.01446533, -0.12792969, -0.11572266, -0.22167969, -0.07373047,\n",
       "       -0.05981445, -0.10009766, -0.06884766,  0.14941406,  0.10107422,\n",
       "       -0.03076172, -0.03271484, -0.03125   , -0.10791016,  0.12158203,\n",
       "        0.16015625,  0.19335938,  0.0065918 , -0.15429688,  0.03710938,\n",
       "        0.22753906,  0.1953125 ,  0.08300781,  0.03686523, -0.02148438,\n",
       "        0.01483154, -0.21289062,  0.16015625,  0.29101562, -0.03149414,\n",
       "       -0.05883789,  0.04418945, -0.11767578, -0.12597656,  0.08447266,\n",
       "       -0.10791016, -0.11279297,  0.17871094,  0.04467773,  0.17675781,\n",
       "       -0.17089844, -0.02160645, -0.00061417, -0.17480469, -0.04760742,\n",
       "        0.06835938, -0.0546875 ,  0.04467773, -0.19628906, -0.18554688,\n",
       "       -0.10839844, -0.06030273,  0.11474609,  0.08544922,  0.05859375,\n",
       "        0.23925781, -0.07080078,  0.11816406, -0.11132812,  0.08300781,\n",
       "       -0.04394531,  0.00970459, -0.1484375 ,  0.265625  , -0.13769531,\n",
       "        0.23535156, -0.19824219,  0.31445312,  0.02734375,  0.16894531,\n",
       "        0.20898438, -0.0480957 ,  0.16015625, -0.00147247, -0.13085938,\n",
       "       -0.01312256,  0.07763672,  0.22851562,  0.13867188, -0.2578125 ,\n",
       "        0.06176758,  0.03955078,  0.13867188,  0.08154297,  0.00210571,\n",
       "       -0.05297852,  0.03222656,  0.02148438, -0.21582031,  0.30664062,\n",
       "       -0.05761719,  0.02722168, -0.28320312, -0.4140625 ,  0.01745605,\n",
       "        0.04101562,  0.00352478,  0.11279297,  0.046875  , -0.09960938,\n",
       "       -0.18945312, -0.24707031,  0.10058594,  0.35546875,  0.15625   ,\n",
       "        0.02319336,  0.125     , -0.12402344,  0.13378906,  0.17578125,\n",
       "        0.06494141, -0.10644531,  0.00714111, -0.40234375,  0.01989746,\n",
       "        0.11376953, -0.10644531, -0.19921875,  0.29492188,  0.15527344,\n",
       "       -0.13574219,  0.16601562, -0.18457031,  0.28125   ,  0.16992188,\n",
       "       -0.04345703, -0.203125  ,  0.02380371,  0.00268555,  0.125     ,\n",
       "       -0.14550781, -0.24121094, -0.125     , -0.12304688, -0.01251221,\n",
       "       -0.203125  ,  0.11132812,  0.04858398, -0.02246094, -0.19238281,\n",
       "        0.00221252, -0.13378906, -0.11035156,  0.1796875 ,  0.14648438,\n",
       "        0.11914062, -0.05419922, -0.3046875 , -0.14257812, -0.0019455 ,\n",
       "        0.296875  ,  0.34179688, -0.06396484, -0.00958252,  0.15527344,\n",
       "       -0.06494141, -0.12792969,  0.04736328,  0.00686646,  0.07910156,\n",
       "       -0.31445312,  0.15039062, -0.00558472, -0.00854492, -0.19726562,\n",
       "        0.0456543 , -0.0859375 , -0.3125    , -0.04931641, -0.17480469,\n",
       "        0.23632812,  0.0189209 , -0.01470947, -0.23632812, -0.48828125,\n",
       "       -0.09667969,  0.26953125,  0.2265625 , -0.33007812,  0.01855469,\n",
       "       -0.15332031, -0.13769531, -0.24316406,  0.12109375,  0.43945312,\n",
       "        0.05078125, -0.01574707,  0.14550781, -0.27148438,  0.05249023,\n",
       "       -0.12060547, -0.10742188, -0.22070312,  0.11132812,  0.00765991,\n",
       "        0.234375  , -0.2734375 ,  0.00512695, -0.01708984,  0.02258301,\n",
       "       -0.01031494,  0.19433594,  0.07226562,  0.02185059,  0.00915527,\n",
       "        0.15722656, -0.01733398, -0.01928711, -0.08837891,  0.01269531,\n",
       "        0.04125977, -0.05615234, -0.08105469, -0.40625   ,  0.04882812,\n",
       "        0.15136719, -0.06030273, -0.10791016, -0.3125    ,  0.00247192,\n",
       "        0.08007812,  0.203125  , -0.08789062,  0.06640625,  0.03417969,\n",
       "        0.20898438, -0.29101562,  0.20703125, -0.23730469, -0.05517578,\n",
       "        0.05737305, -0.13769531, -0.34960938, -0.20214844,  0.13671875,\n",
       "       -0.28710938,  0.00592041, -0.21289062, -0.25585938,  0.01397705,\n",
       "        0.3203125 , -0.01123047, -0.08544922, -0.16210938,  0.22558594,\n",
       "        0.05126953,  0.21386719, -0.00552368,  0.05932617, -0.06396484,\n",
       "       -0.04003906,  0.21191406,  0.12255859, -0.02954102,  0.18554688,\n",
       "        0.07421875,  0.20605469, -0.40429688, -0.05761719, -0.09521484,\n",
       "       -0.00830078, -0.14257812, -0.22265625, -0.22363281, -0.16601562,\n",
       "        0.29492188, -0.01190186, -0.11132812, -0.08642578, -0.19140625,\n",
       "        0.01818848,  0.17675781,  0.04077148, -0.2734375 , -0.00708008,\n",
       "       -0.09472656,  0.32421875,  0.05322266,  0.046875  ,  0.11376953,\n",
       "        0.15722656,  0.06201172,  0.07275391, -0.09179688, -0.09521484,\n",
       "       -0.10839844,  0.07470703,  0.10742188, -0.02856445,  0.16015625,\n",
       "       -0.07910156,  0.15722656, -0.06152344, -0.17480469,  0.08007812,\n",
       "       -0.13671875, -0.18359375, -0.05200195, -0.00585938, -0.15625   ],\n",
       "      dtype=float32)"
      ]
     },
     "execution_count": 12,
     "metadata": {},
     "output_type": "execute_result"
    }
   ],
   "source": [
    "word_vectors['phone']"
   ]
  },
  {
   "cell_type": "markdown",
   "id": "6b9487e5",
   "metadata": {},
   "source": [
    "##### Example - arithmetic on vectors:"
   ]
  },
  {
   "cell_type": "markdown",
   "id": "1b8a52cc",
   "metadata": {},
   "source": [
    "We want to compute:\n",
    "\n",
    "king + woman - man = queen, \n",
    "\n",
    "which was the example that got Mikolov and his advisor excited in the first place."
   ]
  },
  {
   "cell_type": "code",
   "execution_count": 13,
   "id": "61093f94",
   "metadata": {},
   "outputs": [
    {
     "data": {
      "text/plain": [
       "[('queen', 0.7118193507194519), ('monarch', 0.6189674139022827)]"
      ]
     },
     "execution_count": 13,
     "metadata": {},
     "output_type": "execute_result"
    }
   ],
   "source": [
    "word_vectors.most_similar(positive=['king', 'woman'], negative=['man'], topn=2)"
   ]
  },
  {
   "cell_type": "markdown",
   "id": "3395608a",
   "metadata": {},
   "source": [
    "###  Generate your own word vector representations"
   ]
  },
  {
   "cell_type": "markdown",
   "id": "25cfa87a",
   "metadata": {},
   "source": [
    "In some cases you may want to generate your own word2vec model using specific vacabulary.\n",
    "It consists a few steps:\n",
    "\n",
    "1. Preprocessing - create a set of tokens for each sentence.\n",
    "2. Setup model - setuup model parameters \n",
    "3. Training - start training; requires a high computational power and a lot of time;\n",
    "4. Save model - save model in the file"
   ]
  },
  {
   "cell_type": "markdown",
   "id": "ac93bbbe",
   "metadata": {},
   "source": [
    "##### Preprocesing"
   ]
  },
  {
   "cell_type": "markdown",
   "id": "86757392",
   "metadata": {},
   "source": [
    "Create list of tokens for each sentence in corpus:"
   ]
  },
  {
   "cell_type": "raw",
   "id": "c1be5a94",
   "metadata": {},
   "source": [
    ">>> token_list\n",
    "[\n",
    "['to', 'provide', 'early', 'intervention/early', 'childhood', 'special',\n",
    "'education', 'services', 'to', 'eligible', 'children', 'and', 'their',\n",
    "'families'],\n",
    "['essential', 'job', 'functions'],\n",
    "['participate', 'as', 'a', 'transdisciplinary', 'team', 'member', 'to',\n",
    "'complete', 'educational', 'assessments', 'for']\n",
    "...\n",
    "]"
   ]
  },
  {
   "cell_type": "markdown",
   "id": "2728faa7",
   "metadata": {},
   "source": [
    "##### Setup"
   ]
  },
  {
   "cell_type": "markdown",
   "id": "bee09ae3",
   "metadata": {},
   "source": [
    "You have to initialize object of the [class gensim.word2vec](https://radimrehurek.com/gensim/models/word2vec.html)."
   ]
  },
  {
   "cell_type": "raw",
   "id": "73bebcc7",
   "metadata": {},
   "source": [
    "> from gensim.models.word2vec import Word2Vec"
   ]
  },
  {
   "cell_type": "raw",
   "id": "0f1b36d8",
   "metadata": {},
   "source": [
    "num_features = 300 # Number of vector elements (dimensions) to represent the word vector\n",
    "\n",
    "min_word_count = 3 # Min number of word count to be considered in the Word2vec model. If your corpus is small, reduce the min count. If you’re training with a large corpus, increase the min count.\n",
    "\n",
    "num_workers = 2 # Number of CPU cores used for the training. If you want to set the number of cores dynamically, check out import multiprocessing: num_workers =  multiprocessing.cpu_count().\n",
    "\n",
    "window_size = 6  #Context window size\n",
    "\n",
    "subsampling = 1e-3 #Subsampling rate for frequent terms"
   ]
  },
  {
   "cell_type": "markdown",
   "id": "c0b6d5b4",
   "metadata": {},
   "source": [
    "###### Training"
   ]
  },
  {
   "cell_type": "markdown",
   "id": "f164d397",
   "metadata": {},
   "source": [
    "You have to initialize object of the [class gensim.word2vec](https://radimrehurek.com/gensim/models/word2vec.html)."
   ]
  },
  {
   "cell_type": "raw",
   "id": "f045a4cd",
   "metadata": {},
   "source": [
    "> model = Word2Vec(token_list, workers=num_workers, size=num_features, min_count=min_word_count, window=window_size, sample=subsampling)"
   ]
  },
  {
   "cell_type": "markdown",
   "id": "55f3f1b9",
   "metadata": {},
   "source": [
    "##### Save model"
   ]
  },
  {
   "cell_type": "markdown",
   "id": "e24c248b",
   "metadata": {},
   "source": [
    "Word2vec models can consume quite a bit of memory. \n",
    "\n",
    "But remember that only the weight matrix for the hidden layer is of interest. Once you’ve trained your word model, you can reduce the memory footprint by about half if you freeze your model and discard the unnecessary information. \n",
    "\n",
    "The following command will discard the unneeded output weights of your neural network:"
   ]
  },
  {
   "cell_type": "raw",
   "id": "fa4c469c",
   "metadata": {},
   "source": [
    ">>> model.init_sims(replace=True)"
   ]
  },
  {
   "cell_type": "markdown",
   "id": "ef1fd538",
   "metadata": {},
   "source": [
    "You can save the trained model with the following command and preserve it for\n",
    "later use:"
   ]
  },
  {
   "cell_type": "raw",
   "id": "5a0f54cd",
   "metadata": {},
   "source": [
    "model_name = \"my_domain_specific_word2vec_model\"\n",
    "model.save(model_name)"
   ]
  },
  {
   "cell_type": "markdown",
   "id": "5b923174",
   "metadata": {},
   "source": [
    "##### Load saved model"
   ]
  },
  {
   "cell_type": "raw",
   "id": "38a4ea03",
   "metadata": {},
   "source": [
    "> from gensim.models.word2vec import Word2Vec\n",
    "> model_name = \"my_domain_specific_word2vec_model\"\n",
    "> model = Word2Vec.load(model_name)\n",
    "> model.most_similar('radiology')"
   ]
  },
  {
   "cell_type": "markdown",
   "id": "da21117d",
   "metadata": {},
   "source": [
    "## Competitors of Word2vec"
   ]
  },
  {
   "cell_type": "markdown",
   "id": "5e9f27fb",
   "metadata": {},
   "source": [
    "#### GloVe (Global Vectors)"
   ]
  },
  {
   "cell_type": "markdown",
   "id": "011f545f",
   "metadata": {},
   "source": [
    "[Global Vectors](https://nlp.stanford.edu/projects/glove/) uses co-occurences of words and SVD decomposition. It produces the same weight matrix as word2vec, however the process of learning is usually faster. \n",
    "\n",
    "The model was produced at Stanford University."
   ]
  },
  {
   "cell_type": "markdown",
   "id": "6a4fa16f",
   "metadata": {},
   "source": [
    "Advantages of GloVe:\n",
    "- Faster training\n",
    "- Better RAM/CPU efficiency (can handle larger documents)\n",
    "- More efficient use of data (helps with smaller corpora)\n",
    "- More accurate for the same amount of training\n"
   ]
  },
  {
   "cell_type": "markdown",
   "id": "aea6db9b",
   "metadata": {},
   "source": [
    "<img src=\"word_vectors_small.jpg\">"
   ]
  },
  {
   "cell_type": "markdown",
   "id": "181514de",
   "metadata": {},
   "source": [
    "GloVe is avaliabel under python in [glove-python library](https://github.com/maciejkula/glove-python).\n",
    "\n",
    "Installation:\n",
    "\n",
    "pip install glove_python\n"
   ]
  },
  {
   "cell_type": "markdown",
   "id": "f63f186b",
   "metadata": {},
   "source": [
    "Usage:"
   ]
  },
  {
   "cell_type": "raw",
   "id": "d9156594",
   "metadata": {},
   "source": [
    "In [1]: glove.most_similar('physics')\n",
    "Out[1]:\n",
    "[('biology', 0.89425889335342257),\n",
    " ('chemistry', 0.88913708236100086),\n",
    " ('quantum', 0.88859617025616333),\n",
    " ('mechanics', 0.88821824562025431)]\n",
    "\n",
    "In [4]: glove.most_similar('north')\n",
    "Out[4]:\n",
    "[('west', 0.99047203572917908),\n",
    " ('south', 0.98655786905501008),\n",
    " ('east', 0.97914140138065575),\n",
    " ('coast', 0.97680427897282185)]\n",
    "\n",
    "In [6]: glove.most_similar('queen')\n",
    "Out[6]:\n",
    "[('anne', 0.88284931171714842),\n",
    " ('mary', 0.87615260138308615),\n",
    " ('elizabeth', 0.87362497374226267),\n",
    " ('prince', 0.87011034923161801)]\n",
    "\n",
    "In [19]: glove.most_similar('car')\n",
    "Out[19]:\n",
    "[('race', 0.89549347066796814),\n",
    " ('driver', 0.89350343749207217),\n",
    " ('cars', 0.83601334715106568),\n",
    " ('racing', 0.83157724991920212)]"
   ]
  },
  {
   "cell_type": "markdown",
   "id": "f14bad41",
   "metadata": {},
   "source": [
    "### fastText"
   ]
  },
  {
   "cell_type": "markdown",
   "id": "dea486cf",
   "metadata": {},
   "source": [
    "[fastText](https://fasttext.cc/) invented in Facebook's AI Research (FAIR) lab looks on n-characters than n-words in word2vec."
   ]
  },
  {
   "cell_type": "markdown",
   "id": "5853ef27",
   "metadata": {},
   "source": [
    "[FastText is also implemented in gensim library](https://radimrehurek.com/gensim/models/fasttext.html).\n",
    "\n",
    "\n",
    "First you have to download a trained model fo your language:\n",
    "\n",
    "https://fasttext.cc/docs/en/crawl-vectors.html\n",
    "\n",
    "and then set up MODEL_PATH to the model you downloaded."
   ]
  },
  {
   "cell_type": "raw",
   "id": "1e047f64",
   "metadata": {},
   "source": [
    "from gensim.models.fasttext import FastText\n",
    "ft_model = FastText.load_fasttext_format(model_file=MODEL_PATH)\n",
    "ft_model.most_similar('soccer')"
   ]
  },
  {
   "cell_type": "markdown",
   "id": "5ca30d13",
   "metadata": {},
   "source": [
    "### Word2vec vs LSA"
   ]
  },
  {
   "cell_type": "markdown",
   "id": "8d44312e",
   "metadata": {},
   "source": [
    "LSA and GloVe uses similar principles - mainley SVD for constructing weigth matrix."
   ]
  },
  {
   "cell_type": "markdown",
   "id": "f6658b8b",
   "metadata": {},
   "source": [
    "Word2vec gets more use out of the same number of words in its documents by creating a sliding window that overlaps from one document to the next. This way it can reuse the same words five times before sliding on."
   ]
  },
  {
   "cell_type": "markdown",
   "id": "4a06d96f",
   "metadata": {},
   "source": [
    "**Incremental training** Both LSA and Word2vec algorithms allow adding new documents to your corpus and adjusting your existing word vectors to account for the co-occurrences in the new documents. But only the existing bins in your lexicon can be updated. Adding completely new words would change the total size of your vocabulary and therefore your one-hot vectors would change. That requires starting the training over if you want to capture the new word in your model.\n"
   ]
  },
  {
   "cell_type": "markdown",
   "id": "48e60044",
   "metadata": {},
   "source": [
    "LSA trains faster than Word2vec does. And for long documents, it does a better job\n",
    "of discriminating and clustering those documents.\n"
   ]
  },
  {
   "cell_type": "markdown",
   "id": "bdeedcde",
   "metadata": {},
   "source": [
    "**Comparision**\n",
    "LSA:\n",
    "- Faster training\n",
    "- Better discrimination between longer documents\n",
    "\n",
    "Word2vec and GloVe:\n",
    "- More efficient use of large corpora\n",
    "- More accurate reasoning with words, such as answering analogy questions\n"
   ]
  },
  {
   "cell_type": "markdown",
   "id": "bd323c60",
   "metadata": {},
   "source": [
    "### Similarities between words by word2vec"
   ]
  },
  {
   "cell_type": "markdown",
   "id": "56802a95",
   "metadata": {},
   "source": [
    "We will show how to use word2vec to compute cosine similarity."
   ]
  },
  {
   "cell_type": "code",
   "execution_count": 15,
   "id": "2c883146",
   "metadata": {},
   "outputs": [],
   "source": [
    "from gensim.models.keyedvectors import KeyedVectors\n",
    "word_vectors = KeyedVectors.load_word2vec_format('./GoogleNews-vectors-negative300.bin.gz', binary=True, limit=200000)"
   ]
  },
  {
   "cell_type": "code",
   "execution_count": 25,
   "id": "2f15943a",
   "metadata": {},
   "outputs": [
    {
     "data": {
      "text/plain": [
       "array([ 2.46093750e-01,  2.44140625e-01,  1.42578125e-01,  3.32031250e-01,\n",
       "       -1.62109375e-01,  1.80664062e-02, -2.53906250e-01,  1.89453125e-01,\n",
       "        3.73535156e-02, -9.39941406e-03,  1.66992188e-01,  1.97265625e-01,\n",
       "        9.32617188e-02, -1.24511719e-01,  2.06054688e-01,  1.16210938e-01,\n",
       "        1.66992188e-01,  2.29492188e-02,  5.71289062e-02, -1.12304688e-02,\n",
       "        9.13085938e-02, -9.52148438e-02, -2.32421875e-01,  1.71875000e-01,\n",
       "       -4.54101562e-02,  2.17285156e-02, -1.70898438e-01,  1.32812500e-01,\n",
       "       -3.57421875e-01,  6.83593750e-02,  2.20703125e-01,  9.70458984e-03,\n",
       "        1.09863281e-02, -1.64062500e-01,  2.79296875e-01,  5.85937500e-02,\n",
       "       -7.95898438e-02, -7.37304688e-02,  1.61132812e-01,  3.49609375e-01,\n",
       "       -1.64794922e-02, -2.53906250e-02, -8.88671875e-02, -3.16406250e-01,\n",
       "       -3.32031250e-01,  1.73828125e-01,  7.95898438e-02,  2.85156250e-01,\n",
       "        8.00781250e-02, -7.27539062e-02, -1.27929688e-01,  1.62109375e-01,\n",
       "       -1.05468750e-01, -2.22656250e-01, -6.62231445e-03,  1.90429688e-01,\n",
       "       -3.57421875e-01,  4.46777344e-02, -3.67187500e-01, -2.00195312e-01,\n",
       "       -1.61132812e-01, -6.88476562e-02, -1.59179688e-01,  1.39648438e-01,\n",
       "       -5.37109375e-02,  2.61718750e-01,  3.35937500e-01, -3.02734375e-02,\n",
       "       -1.25732422e-02,  1.02539062e-01, -1.72851562e-01, -1.01562500e-01,\n",
       "       -9.86328125e-02, -4.19921875e-02,  1.56250000e-01, -4.93164062e-02,\n",
       "       -1.30859375e-01, -1.63085938e-01,  1.74804688e-01,  5.49316406e-02,\n",
       "       -3.08593750e-01, -5.03906250e-01, -1.74804688e-01, -3.80859375e-01,\n",
       "       -1.48437500e-01,  3.66210938e-02,  1.64794922e-03, -2.77099609e-02,\n",
       "       -1.66992188e-01, -6.93359375e-02, -9.86328125e-02,  6.19506836e-03,\n",
       "       -1.55273438e-01,  8.64257812e-02,  5.83496094e-02,  1.68457031e-02,\n",
       "        3.24218750e-01,  8.59375000e-02,  8.83789062e-02,  5.59082031e-02,\n",
       "        3.34472656e-02, -1.93359375e-01, -1.25122070e-02,  2.99072266e-02,\n",
       "       -8.39843750e-02, -2.36328125e-01,  2.61718750e-01,  8.64257812e-02,\n",
       "       -2.59765625e-01, -1.84570312e-01,  2.03125000e-01, -7.91015625e-02,\n",
       "       -7.08007812e-02,  1.53320312e-01,  2.05078125e-01,  1.97265625e-01,\n",
       "        1.01074219e-01,  1.18164062e-01,  1.20605469e-01,  1.28906250e-01,\n",
       "       -4.70703125e-01, -2.07031250e-01, -2.10937500e-01, -1.49414062e-01,\n",
       "        8.15429688e-02,  4.02832031e-02, -9.58251953e-03,  1.76757812e-01,\n",
       "       -7.56835938e-02,  3.51562500e-01,  1.07421875e-01,  3.51562500e-02,\n",
       "        8.30078125e-02, -1.40991211e-02, -1.43554688e-01, -1.04980469e-01,\n",
       "       -1.30004883e-02,  1.65039062e-01,  1.38671875e-01,  4.98046875e-02,\n",
       "        3.80859375e-02, -2.37304688e-01,  3.85742188e-02, -1.63085938e-01,\n",
       "       -1.68945312e-01,  6.54296875e-02, -1.51367188e-01,  1.59179688e-01,\n",
       "        6.29882812e-02,  1.89208984e-02, -1.07421875e-01, -1.21093750e-01,\n",
       "        9.08203125e-02,  2.96630859e-02, -2.66113281e-02, -4.19921875e-01,\n",
       "        4.93164062e-02,  6.44531250e-02, -1.31835938e-01,  6.20117188e-02,\n",
       "        2.75390625e-01, -2.68554688e-02,  1.25976562e-01,  1.98242188e-01,\n",
       "        8.00781250e-02, -1.98242188e-01,  1.48437500e-01, -5.93261719e-02,\n",
       "        4.55078125e-01,  9.27734375e-02, -3.04687500e-01,  2.41210938e-01,\n",
       "       -8.83789062e-02,  9.03320312e-02,  8.34960938e-02, -3.63281250e-01,\n",
       "        7.50732422e-03, -4.05273438e-02, -4.85839844e-02,  3.40270996e-03,\n",
       "       -2.19726562e-01, -3.29589844e-02,  2.89062500e-01,  5.39550781e-02,\n",
       "        8.93554688e-02, -1.13281250e-01, -3.51562500e-01,  1.87500000e-01,\n",
       "        2.86865234e-02,  1.69921875e-01,  3.59375000e-01, -1.62353516e-02,\n",
       "        8.00781250e-02, -1.33789062e-01, -6.39648438e-02,  1.23046875e-01,\n",
       "        2.17285156e-02, -4.49218750e-01,  1.66015625e-01, -1.69921875e-01,\n",
       "       -1.60156250e-01,  2.89306641e-02,  2.85156250e-01, -1.02539062e-01,\n",
       "       -2.47070312e-01, -6.98852539e-03,  2.12890625e-01, -1.71875000e-01,\n",
       "       -1.27929688e-01,  1.39648438e-01, -1.85546875e-01,  1.67968750e-01,\n",
       "        4.91333008e-03, -1.58203125e-01, -1.13281250e-01,  2.62451172e-02,\n",
       "        6.25000000e-02,  1.10351562e-01,  1.65039062e-01, -3.04687500e-01,\n",
       "       -8.59375000e-02,  4.66308594e-02, -1.00097656e-01, -3.26171875e-01,\n",
       "        1.60156250e-01,  1.33789062e-01,  2.83203125e-01,  2.44140625e-01,\n",
       "        7.91015625e-02, -4.08203125e-01,  1.27929688e-01,  2.73437500e-01,\n",
       "       -7.61718750e-02,  2.55859375e-01, -1.92382812e-01, -1.77734375e-01,\n",
       "        4.95605469e-02,  2.95410156e-02, -1.33789062e-01,  1.55273438e-01,\n",
       "        3.03955078e-02, -2.23632812e-01, -4.29687500e-02, -2.63671875e-01,\n",
       "       -4.66308594e-02,  3.20312500e-01, -6.98242188e-02,  8.10546875e-02,\n",
       "        6.44531250e-02, -2.08984375e-01,  5.54199219e-02,  7.66601562e-02,\n",
       "        1.53320312e-01, -1.73828125e-01,  9.22851562e-02, -6.50024414e-03,\n",
       "        1.37695312e-01,  5.51757812e-02,  1.43554688e-01, -3.71093750e-01,\n",
       "        9.13085938e-02, -4.39453125e-02, -7.76367188e-02, -2.19726562e-02,\n",
       "        1.54296875e-01,  2.18750000e-01,  3.54766846e-04, -2.07031250e-01,\n",
       "       -1.47460938e-01, -7.23266602e-03,  9.08203125e-02, -2.69531250e-01,\n",
       "        6.22558594e-02, -1.97265625e-01,  2.67333984e-02,  5.83496094e-02,\n",
       "        7.37304688e-02, -1.43554688e-01,  1.01562500e-01,  1.30615234e-02,\n",
       "        1.74560547e-02,  5.76171875e-02,  2.71484375e-01,  8.83789062e-02,\n",
       "       -1.04492188e-01, -8.93554688e-02,  4.83398438e-02, -7.61718750e-02,\n",
       "        1.97265625e-01, -2.44140625e-01, -1.89453125e-01,  2.19726562e-01,\n",
       "       -2.24609375e-01,  2.57568359e-02,  3.08593750e-01,  8.83789062e-02,\n",
       "        5.59082031e-02, -1.17675781e-01, -1.41143799e-03, -7.71484375e-02],\n",
       "      dtype=float32)"
      ]
     },
     "execution_count": 25,
     "metadata": {},
     "output_type": "execute_result"
    }
   ],
   "source": [
    "word_vectors['Illinois']"
   ]
  },
  {
   "cell_type": "code",
   "execution_count": 22,
   "id": "c312131a",
   "metadata": {},
   "outputs": [
    {
     "data": {
      "text/plain": [
       "array([-1.75781250e-01,  1.90429688e-01,  3.19824219e-02,  2.75390625e-01,\n",
       "        1.04980469e-01,  4.71191406e-02, -2.83203125e-01, -1.47460938e-01,\n",
       "        6.17675781e-02, -1.53320312e-01, -2.26562500e-01,  1.54418945e-02,\n",
       "        7.86781311e-05,  2.03125000e-01,  2.53906250e-01,  7.37304688e-02,\n",
       "       -2.05078125e-02, -1.42578125e-01,  1.84570312e-01, -6.29882812e-02,\n",
       "       -9.17968750e-02, -1.79687500e-01, -2.99072266e-02, -1.70898438e-01,\n",
       "       -7.66601562e-02,  3.82812500e-01,  7.71484375e-02,  1.41601562e-01,\n",
       "       -4.08203125e-01,  1.38671875e-01,  2.11914062e-01, -3.68652344e-02,\n",
       "       -7.22656250e-02, -8.54492188e-02,  3.73535156e-02, -5.52368164e-03,\n",
       "        1.27929688e-01, -2.22656250e-01, -2.38281250e-01,  2.55859375e-01,\n",
       "        1.30859375e-01,  2.89306641e-02, -3.41796875e-02, -1.04492188e-01,\n",
       "       -3.67187500e-01,  1.94335938e-01, -1.29882812e-01,  7.72094727e-03,\n",
       "        4.55078125e-01,  1.25976562e-01,  1.07910156e-01,  3.55468750e-01,\n",
       "        1.06933594e-01, -7.32421875e-02, -5.44433594e-02,  1.92382812e-01,\n",
       "       -1.14257812e-01, -7.17773438e-02, -1.38671875e-01,  1.06445312e-01,\n",
       "        3.02734375e-02,  1.65039062e-01,  5.98144531e-02, -7.50732422e-03,\n",
       "        8.74023438e-02, -5.59082031e-02, -9.03320312e-02,  7.71484375e-02,\n",
       "       -7.71484375e-02, -1.70135498e-03, -6.78710938e-02,  1.10473633e-02,\n",
       "        1.96289062e-01,  1.42211914e-02, -1.28906250e-01,  5.88378906e-02,\n",
       "        1.39648438e-01,  2.03125000e-01,  1.00585938e-01,  2.06298828e-02,\n",
       "       -2.18750000e-01,  2.83203125e-01,  1.14746094e-01, -1.01562500e-01,\n",
       "       -5.46875000e-02, -2.67578125e-01,  1.10351562e-01, -4.07714844e-02,\n",
       "        4.66796875e-01, -2.67578125e-01, -5.12695312e-02,  1.66015625e-02,\n",
       "       -1.44531250e-01, -9.66796875e-02, -1.78710938e-01,  6.98242188e-02,\n",
       "        9.76562500e-02, -8.59375000e-02, -2.75390625e-01, -9.91821289e-04,\n",
       "       -4.98046875e-02, -2.77343750e-01, -1.98242188e-01,  1.29882812e-01,\n",
       "        1.74804688e-01, -9.03320312e-03,  1.93786621e-03, -1.66992188e-01,\n",
       "       -5.15136719e-02,  6.64062500e-02, -3.75000000e-01, -9.32617188e-02,\n",
       "       -2.47802734e-02, -1.68945312e-01,  1.00585938e-01, -6.68945312e-02,\n",
       "       -6.29882812e-02, -9.76562500e-02,  3.57421875e-01,  2.32421875e-01,\n",
       "       -3.12500000e-01, -2.28515625e-01, -1.52343750e-01, -1.14257812e-01,\n",
       "        2.92968750e-01, -1.74804688e-01,  1.45507812e-01,  2.21679688e-01,\n",
       "       -1.77734375e-01, -1.45507812e-01,  6.50024414e-03, -6.13403320e-03,\n",
       "       -1.31835938e-01, -7.03125000e-02, -8.34960938e-02,  1.01074219e-01,\n",
       "        5.61523438e-02, -3.61328125e-02, -2.45117188e-01,  1.00585938e-01,\n",
       "       -6.00585938e-02,  1.68945312e-01, -4.78515625e-02, -2.42187500e-01,\n",
       "        2.26562500e-01, -1.10473633e-02,  8.64257812e-02, -6.03027344e-02,\n",
       "       -1.60156250e-01,  1.82617188e-01,  1.04492188e-01, -7.71484375e-02,\n",
       "       -1.51367188e-01,  4.35546875e-01,  1.36718750e-01, -2.89062500e-01,\n",
       "       -2.36328125e-01, -2.14843750e-01, -3.00781250e-01,  1.45507812e-01,\n",
       "       -1.30859375e-01, -1.34765625e-01,  3.61328125e-01, -1.77001953e-02,\n",
       "        1.64062500e-01, -7.01904297e-03, -1.65039062e-01, -1.63085938e-01,\n",
       "        6.05468750e-02,  4.61425781e-02, -2.53906250e-01, -1.63085938e-01,\n",
       "       -3.49121094e-02, -1.94335938e-01, -2.91748047e-02, -4.76074219e-02,\n",
       "       -1.42578125e-01, -2.17773438e-01, -6.98242188e-02,  9.22851562e-02,\n",
       "        1.75781250e-01,  1.03759766e-02,  8.83789062e-02, -1.87500000e-01,\n",
       "       -1.95312500e-02,  4.00390625e-02,  4.29687500e-02, -1.07910156e-01,\n",
       "        4.10156250e-01, -1.54296875e-01,  6.77490234e-03, -2.03125000e-01,\n",
       "        6.83593750e-02, -3.80859375e-02, -3.90625000e-01,  2.49023438e-01,\n",
       "       -6.83593750e-02, -4.16015625e-01, -2.05078125e-01, -2.03125000e-01,\n",
       "       -1.89453125e-01,  1.62109375e-01,  8.15429688e-02, -1.77001953e-02,\n",
       "       -1.43554688e-01,  8.34960938e-02,  2.38281250e-01, -5.39550781e-02,\n",
       "        2.55859375e-01, -1.16699219e-01, -2.57812500e-01, -9.03320312e-02,\n",
       "       -1.32812500e-01, -1.63085938e-01, -2.73437500e-01,  3.14453125e-01,\n",
       "        4.85839844e-02, -2.44140625e-03,  1.23046875e-01, -2.32421875e-01,\n",
       "        1.02050781e-01,  5.98144531e-02,  1.25000000e-01, -2.24609375e-01,\n",
       "       -1.42578125e-01,  1.50390625e-01, -3.14941406e-02,  4.95605469e-02,\n",
       "       -3.14453125e-01, -1.29882812e-01, -6.73828125e-02,  2.81250000e-01,\n",
       "       -1.08032227e-02,  1.04980469e-01,  5.18798828e-03, -1.08398438e-01,\n",
       "       -2.21679688e-01, -1.34765625e-01, -1.97753906e-02, -1.02539062e-01,\n",
       "        1.84326172e-02, -2.69531250e-01, -6.98242188e-02, -1.40380859e-02,\n",
       "       -2.87109375e-01, -2.57568359e-02, -3.06396484e-02,  5.85937500e-02,\n",
       "        2.16796875e-01, -1.18164062e-01,  7.41577148e-03,  2.85644531e-02,\n",
       "       -1.37695312e-01, -1.25976562e-01,  7.37304688e-02, -6.54296875e-02,\n",
       "        1.78710938e-01, -8.49609375e-02, -2.10937500e-01,  1.40625000e-01,\n",
       "        1.09375000e-01,  2.57812500e-01,  2.91015625e-01, -4.71191406e-02,\n",
       "        7.62939453e-03,  1.88476562e-01, -1.88476562e-01, -4.49218750e-01,\n",
       "        2.23632812e-01, -1.15966797e-02, -1.02050781e-01,  2.25830078e-02,\n",
       "        1.27563477e-02,  1.22070312e-01, -1.41601562e-01, -1.52343750e-01,\n",
       "       -2.92968750e-01,  1.51367188e-01,  4.37011719e-02,  1.77001953e-02,\n",
       "       -7.17773438e-02, -1.67968750e-01,  6.22558594e-02,  1.31835938e-01,\n",
       "        8.49609375e-02, -9.52148438e-03,  1.38549805e-02, -7.08007812e-02,\n",
       "       -1.86523438e-01, -1.30859375e-01,  2.15820312e-01, -6.25000000e-02,\n",
       "       -5.79833984e-03, -1.38671875e-01, -5.39550781e-02, -6.86645508e-03,\n",
       "        8.30078125e-02, -1.57226562e-01, -1.45507812e-01, -1.28906250e-01],\n",
       "      dtype=float32)"
      ]
     },
     "execution_count": 22,
     "metadata": {},
     "output_type": "execute_result"
    }
   ],
   "source": [
    "word_vectors['Boston']"
   ]
  },
  {
   "cell_type": "markdown",
   "id": "e979ec0f",
   "metadata": {},
   "source": [
    "We compute Euclidean distance between vectors:"
   ]
  },
  {
   "cell_type": "code",
   "execution_count": 24,
   "id": "74cf3210",
   "metadata": {},
   "outputs": [
    {
     "data": {
      "text/plain": [
       "3.36538"
      ]
     },
     "execution_count": 24,
     "metadata": {},
     "output_type": "execute_result"
    }
   ],
   "source": [
    "import numpy as np\n",
    "np.linalg.norm(word_vectors['Illinois'] - word_vectors['Illini'])\n"
   ]
  },
  {
   "cell_type": "markdown",
   "id": "70fd10bf",
   "metadata": {},
   "source": [
    "Now we compute cos_similarity:"
   ]
  },
  {
   "cell_type": "code",
   "execution_count": 27,
   "id": "8309958f",
   "metadata": {},
   "outputs": [
    {
     "data": {
      "text/plain": [
       "0.5501352"
      ]
     },
     "execution_count": 27,
     "metadata": {},
     "output_type": "execute_result"
    }
   ],
   "source": [
    "import numpy as np\n",
    "\n",
    "cos_similarity = np.dot(word_vectors['Illinois'], word_vectors['Illini']) / ( np.linalg.norm(word_vectors['Illinois']) *  np.linalg.norm(word_vectors['Illini']))\n",
    "\n",
    "cos_similarity"
   ]
  },
  {
   "cell_type": "markdown",
   "id": "80ecc7db",
   "metadata": {},
   "source": [
    "Now we have all data to construct semantic search engine."
   ]
  },
  {
   "cell_type": "markdown",
   "id": "7f7d1414",
   "metadata": {},
   "source": [
    "##### Plotting word2vec"
   ]
  },
  {
   "cell_type": "markdown",
   "id": "c5a87368",
   "metadata": {},
   "source": [
    "Now we use PCA to project Word2vec to two first axes that carries highest variance (information). This allows us to plot word2vec in the plane."
   ]
  },
  {
   "cell_type": "code",
   "execution_count": 63,
   "id": "ede0b5fa",
   "metadata": {},
   "outputs": [],
   "source": [
    "def display_pca_scatterplot(model, words=None, sample=0):\n",
    "    import matplotlib.pyplot as plt\n",
    "    plt.style.use('ggplot')\n",
    "    if words == None:\n",
    "        if sample > 0:\n",
    "            words = np.random.choice(list(model.key_to_index.keys()), sample)\n",
    "        else:\n",
    "            words = [ word for word in model.vocab ]\n",
    "        \n",
    "    word_vectors = np.array([model[w] for w in words])\n",
    "\n",
    "    twodim = PCA().fit_transform(word_vectors)[:,:2]\n",
    "    \n",
    "    plt.figure(figsize=(6,6))\n",
    "    plt.scatter(twodim[:,0], twodim[:,1], edgecolors='k', c='r')\n",
    "    plt.xlabel('PC1')\n",
    "    plt.ylabel('PC2')\n",
    "    for word, (x,y) in zip(words, twodim):\n",
    "        plt.text(x+0.05, y+0.05, word)\n",
    "\n"
   ]
  },
  {
   "cell_type": "code",
   "execution_count": 64,
   "id": "501922f5",
   "metadata": {},
   "outputs": [
    {
     "data": {
      "image/png": "[encoded data removed]",
      "text/plain": [
       "<Figure size 432x432 with 1 Axes>"
      ]
     },
     "metadata": {},
     "output_type": "display_data"
    }
   ],
   "source": [
    "display_pca_scatterplot(word_vectors, \n",
    "                        ['coffee', 'tea', 'beer', 'wine', 'brandy', 'rum', 'champagne', 'water',\n",
    "                         'spaghetti', 'hamburger', 'pizza', 'falafel', 'sushi', 'meatballs',\n",
    "                         'dog', 'horse', 'cat', 'monkey', 'parrot', 'koala', 'lizard',\n",
    "                         'frog', 'toad', 'monkey', 'ape', 'kangaroo', 'wolf', 'australia', 'china',\n",
    "                         'homework', 'assignment', 'problem', 'exam', 'test', 'class',\n",
    "                         'school', 'college', 'university', 'institute'])\n",
    "\n"
   ]
  },
  {
   "cell_type": "code",
   "execution_count": 65,
   "id": "83e081e8",
   "metadata": {},
   "outputs": [
    {
     "data": {
      "image/png": "[encoded data removed]",
      "text/plain": [
       "<Figure size 432x432 with 1 Axes>"
      ]
     },
     "metadata": {},
     "output_type": "display_data"
    }
   ],
   "source": [
    "display_pca_scatterplot(word_vectors, sample=50)"
   ]
  },
  {
   "cell_type": "markdown",
   "id": "dbed47d9",
   "metadata": {},
   "source": [
    "## Solution to analogy problem"
   ]
  },
  {
   "cell_type": "code",
   "execution_count": 66,
   "id": "a7a0d7a5",
   "metadata": {},
   "outputs": [],
   "source": [
    "def analogy(model, x1, x2, y1):\n",
    "    result = model.most_similar(positive=[y1, x2], negative=[x1])\n",
    "    return result[0][0]"
   ]
  },
  {
   "cell_type": "markdown",
   "id": "bc495546",
   "metadata": {},
   "source": [
    "What is the corresponding word to 'long' as 'tallest' to 'tall'?"
   ]
  },
  {
   "cell_type": "code",
   "execution_count": 67,
   "id": "60f5c064",
   "metadata": {},
   "outputs": [
    {
     "data": {
      "text/plain": [
       "'longest'"
      ]
     },
     "execution_count": 67,
     "metadata": {},
     "output_type": "execute_result"
    }
   ],
   "source": [
    "analogy(word_vectors,'tall', 'tallest', 'long')"
   ]
  },
  {
   "cell_type": "markdown",
   "id": "985200ba",
   "metadata": {},
   "source": [
    "What is the corresponding word to 'bad' as 'fantastic' to 'good'?"
   ]
  },
  {
   "cell_type": "code",
   "execution_count": 68,
   "id": "e24b2a4a",
   "metadata": {},
   "outputs": [
    {
     "data": {
      "text/plain": [
       "'horrible'"
      ]
     },
     "execution_count": 68,
     "metadata": {},
     "output_type": "execute_result"
    }
   ],
   "source": [
    "analogy(word_vectors,'good', 'fantastic', 'bad')"
   ]
  },
  {
   "cell_type": "markdown",
   "id": "c4ac09e8",
   "metadata": {},
   "source": [
    ".. and now a bit strange:"
   ]
  },
  {
   "cell_type": "code",
   "execution_count": 69,
   "id": "9ca456cf",
   "metadata": {},
   "outputs": [
    {
     "data": {
      "text/plain": [
       "'canada'"
      ]
     },
     "execution_count": 69,
     "metadata": {},
     "output_type": "execute_result"
    }
   ],
   "source": [
    "analogy(word_vectors,'japan', 'japanese', 'australia')"
   ]
  },
  {
   "cell_type": "markdown",
   "id": "f602b512",
   "metadata": {},
   "source": [
    "...and remember - we can rule some odd words:"
   ]
  },
  {
   "cell_type": "code",
   "execution_count": 72,
   "id": "4f221b9e",
   "metadata": {},
   "outputs": [
    {
     "name": "stdout",
     "output_type": "stream",
     "text": [
      "cereal\n"
     ]
    }
   ],
   "source": [
    "print(word_vectors.doesnt_match(\"breakfast cereal dinner lunch\".split()))"
   ]
  },
  {
   "cell_type": "code",
   "execution_count": null,
   "id": "fe69b019",
   "metadata": {},
   "outputs": [],
   "source": []
  }
 ],
 "metadata": {
  "kernelspec": {
   "display_name": "Python 3.9.2 64-bit",
   "language": "python",
   "name": "python3"
  },
  "language_info": {
   "codemirror_mode": {
    "name": "ipython",
    "version": 3
   },
   "file_extension": ".py",
   "mimetype": "text/x-python",
   "name": "python",
   "nbconvert_exporter": "python",
   "pygments_lexer": "ipython3",
   "version": "3.9.2"
  },
  "vscode": {
   "interpreter": {
    "hash": "0abe801034007484f152c408f6878125c4d199d6c578a45ceffdae6ced931ee7"
   }
  }
 },
 "nbformat": 4,
 "nbformat_minor": 5
}
